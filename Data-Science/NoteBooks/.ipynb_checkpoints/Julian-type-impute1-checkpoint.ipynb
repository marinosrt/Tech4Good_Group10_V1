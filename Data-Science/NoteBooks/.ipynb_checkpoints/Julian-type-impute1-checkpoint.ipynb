{
 "cells": [
  {
   "cell_type": "code",
   "execution_count": null,
   "id": "55cc0f02",
   "metadata": {},
   "outputs": [],
   "source": [
    "import pandas as pd"
   ]
  },
  {
   "cell_type": "code",
   "execution_count": null,
   "id": "1de58474",
   "metadata": {},
   "outputs": [],
   "source": [
    "df = pd.read_csv(\"../datos/2019censo.csv\", low_memory=False)\n",
    "\n",
    "# BIG DROP\n",
    "# df.drop([\"ID_Bcn_2019\", 'ID_Bcn_2016', 'Codi_Activitat_2016', \n",
    "#          \"Nom_Principal_Activitat\",\n",
    "#          'SN_Servei_Degustacio', 'SN_Obert24h', 'SN_Mixtura', 'SN_Carrer', \n",
    "#          'SN_Mercat', 'SN_Galeria', 'SN_CComercial','SN_Eix', 'Nom_Eix',\n",
    "#          'Planta', 'Porta', 'Num_Policia_Inicial', 'Lletra_Inicial','SN_Oci_Nocturn', 'SN_Coworking',\n",
    "#          'Num_Policia_Final', 'Lletra_Final', 'Solar',\n",
    "#          'Codi_Parcela', 'Codi_Illa', 'Seccio_Censal',\n",
    "#          'Referencia_cadastral', 'Data_Revisio', \"Codi_Grup_Activitat\", \"Codi_Activitat_2019\",\n",
    "#          \"Nom_Mercat\",\"Nom_Galeria\", \"Nom_CComercial\",\n",
    "#          'Codi_Sector_Activitat'], axis=1, inplace=True)\n",
    "\n",
    "\n",
    "df = df[[\"ID_Bcn_2019\", \"Nom_Local\", \"Nom_Activitat\", \"Nom_Grup_Activitat\", \"Nom_Sector_Activitat\",]]\n",
    "\n",
    "df.head(3)"
   ]
  },
  {
   "cell_type": "code",
   "execution_count": null,
   "id": "374b2545",
   "metadata": {},
   "outputs": [],
   "source": [
    "df_altres = df.loc[(df['Nom_Activitat'] == \"Altres\") | (df['Nom_Activitat'] == \"Sense informació\") | (df['Nom_Activitat'] == 'Altres ( per exemple VENDING)') | (df['Nom_Activitat'] == 'altres')]\n",
    "df_altres"
   ]
  },
  {
   "cell_type": "code",
   "execution_count": null,
   "id": "1932322e",
   "metadata": {},
   "outputs": [],
   "source": [
    "df_altres.Nom_Sector_Activitat.value_counts()"
   ]
  },
  {
   "cell_type": "code",
   "execution_count": null,
   "id": "b63482a3",
   "metadata": {},
   "outputs": [],
   "source": [
    "df_altres.Nom_Grup_Activitat.value_counts()"
   ]
  },
  {
   "cell_type": "code",
   "execution_count": null,
   "id": "82f942c5",
   "metadata": {},
   "outputs": [],
   "source": [
    "df_altres"
   ]
  },
  {
   "cell_type": "code",
   "execution_count": null,
   "id": "31efa11c",
   "metadata": {},
   "outputs": [],
   "source": [
    "df_altres.drop(columns = [\"Nom_Activitat\"], inplace = True)"
   ]
  },
  {
   "cell_type": "code",
   "execution_count": null,
   "id": "62012138",
   "metadata": {},
   "outputs": [],
   "source": [
    "df_altres.loc[df_altres[\"Nom_Grup_Activitat\"] == \"Altres\",\n",
    "              \"Nom_Grup_Activitat\"] = df_altres.loc[df_altres[\"Nom_Grup_Activitat\"] == \"Altres\",\n",
    "                                                   \"Nom_Sector_Activitat\"]\n",
    "\n",
    "df_altres.drop(columns=[\"Nom_Sector_Activitat\"], inplace=True)\n",
    "df_altres.head(50)"
   ]
  },
  {
   "cell_type": "code",
   "execution_count": null,
   "id": "db1140c6",
   "metadata": {},
   "outputs": [],
   "source": []
  },
  {
   "cell_type": "code",
   "execution_count": null,
   "id": "c4a9b8e6",
   "metadata": {},
   "outputs": [],
   "source": []
  },
  {
   "cell_type": "code",
   "execution_count": null,
   "id": "e7b8b7a1",
   "metadata": {},
   "outputs": [],
   "source": []
  },
  {
   "cell_type": "code",
   "execution_count": null,
   "id": "b1154690",
   "metadata": {},
   "outputs": [],
   "source": []
  },
  {
   "cell_type": "code",
   "execution_count": null,
   "id": "fc46fa83",
   "metadata": {},
   "outputs": [],
   "source": []
  },
  {
   "cell_type": "code",
   "execution_count": null,
   "id": "d12b13cc",
   "metadata": {},
   "outputs": [],
   "source": []
  },
  {
   "cell_type": "code",
   "execution_count": null,
   "id": "464a9a7f",
   "metadata": {},
   "outputs": [],
   "source": [
    "noms_act = df.Nom_Activitat.to_list()\n",
    "noms_act = list(dict.fromkeys(noms_act))\n",
    "noms_act"
   ]
  },
  {
   "cell_type": "code",
   "execution_count": null,
   "id": "b7c7af62",
   "metadata": {},
   "outputs": [],
   "source": [
    "\n"
   ]
  }
 ],
 "metadata": {
  "kernelspec": {
   "display_name": "Python 3 (ipykernel)",
   "language": "python",
   "name": "python3"
  },
  "language_info": {
   "codemirror_mode": {
    "name": "ipython",
    "version": 3
   },
   "file_extension": ".py",
   "mimetype": "text/x-python",
   "name": "python",
   "nbconvert_exporter": "python",
   "pygments_lexer": "ipython3",
   "version": "3.10.6"
  },
  "toc": {
   "base_numbering": 1,
   "nav_menu": {},
   "number_sections": true,
   "sideBar": true,
   "skip_h1_title": false,
   "title_cell": "Table of Contents",
   "title_sidebar": "Contents",
   "toc_cell": false,
   "toc_position": {},
   "toc_section_display": true,
   "toc_window_display": false
  }
 },
 "nbformat": 4,
 "nbformat_minor": 5
}
