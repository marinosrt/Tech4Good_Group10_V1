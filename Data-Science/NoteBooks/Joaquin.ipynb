{
 "cells": [
  {
   "cell_type": "code",
   "execution_count": 1,
   "id": "8f82a5d4",
   "metadata": {},
   "outputs": [],
   "source": [
    "import pandas as pd"
   ]
  },
  {
   "cell_type": "code",
   "execution_count": 2,
   "id": "aca54281",
   "metadata": {
    "scrolled": true
   },
   "outputs": [],
   "source": [
    "# Estimacion del precio mensual de locales commerciales por barrio en años 2011, 2010, 2009, 2008\n",
    "df1 = pd.read_csv('../Datos CSV/locveevolucio.csv')\n",
    "relabel = {'BARIIS': 'BARRIO', 'DOSZEROONZE': 2011, 'DOSZERODEU': 2010, 'DOSZEROZERONOU': 2009, 'DOSZEROZEROVUIT': 2008}\n",
    "df1.rename(columns=relabel, inplace=True)"
   ]
  },
  {
   "cell_type": "code",
   "execution_count": 3,
   "id": "52707296",
   "metadata": {},
   "outputs": [
    {
     "name": "stderr",
     "output_type": "stream",
     "text": [
      "/var/folders/hp/ytf1kqk92hd11vlmtk9zz38r0000gn/T/ipykernel_82537/3902438200.py:1: FutureWarning: The default value of regex will change from True to False in a future version.\n",
      "  df1['BARRIS'] = df1['BARRIS'].str.replace('[\\.,0-9]', '')\n"
     ]
    }
   ],
   "source": [
    "df1['BARRIS'] = df1['BARRIS'].str.replace('[\\.,0-9]', '')\n",
    "# df1.to_json('data/evolucion_precio_renta_mensual.json', orient='records')"
   ]
  },
  {
   "cell_type": "code",
   "execution_count": 5,
   "id": "167eb886",
   "metadata": {},
   "outputs": [
    {
     "data": {
      "text/html": [
       "<div>\n",
       "<style scoped>\n",
       "    .dataframe tbody tr th:only-of-type {\n",
       "        vertical-align: middle;\n",
       "    }\n",
       "\n",
       "    .dataframe tbody tr th {\n",
       "        vertical-align: top;\n",
       "    }\n",
       "\n",
       "    .dataframe thead th {\n",
       "        text-align: right;\n",
       "    }\n",
       "</style>\n",
       "<table border=\"1\" class=\"dataframe\">\n",
       "  <thead>\n",
       "    <tr style=\"text-align: right;\">\n",
       "      <th></th>\n",
       "      <th>DTE</th>\n",
       "      <th>BARRIS</th>\n",
       "      <th>2011</th>\n",
       "      <th>2010</th>\n",
       "      <th>2009</th>\n",
       "      <th>2008</th>\n",
       "    </tr>\n",
       "  </thead>\n",
       "  <tbody>\n",
       "    <tr>\n",
       "      <th>0</th>\n",
       "      <td>1</td>\n",
       "      <td>el Raval</td>\n",
       "      <td>2.176</td>\n",
       "      <td>2.445</td>\n",
       "      <td>2.773</td>\n",
       "      <td>3.065</td>\n",
       "    </tr>\n",
       "    <tr>\n",
       "      <th>1</th>\n",
       "      <td>1</td>\n",
       "      <td>el Barri Gòtic</td>\n",
       "      <td>2.632</td>\n",
       "      <td>3.026</td>\n",
       "      <td>3.750</td>\n",
       "      <td>3.828</td>\n",
       "    </tr>\n",
       "    <tr>\n",
       "      <th>2</th>\n",
       "      <td>1</td>\n",
       "      <td>la Barceloneta</td>\n",
       "      <td>2.135</td>\n",
       "      <td>3.005</td>\n",
       "      <td>--</td>\n",
       "      <td>--</td>\n",
       "    </tr>\n",
       "    <tr>\n",
       "      <th>3</th>\n",
       "      <td>1</td>\n",
       "      <td>Sant Pere Santa Caterina i la Ribera</td>\n",
       "      <td>2.482</td>\n",
       "      <td>2.828</td>\n",
       "      <td>3.146</td>\n",
       "      <td>3.450</td>\n",
       "    </tr>\n",
       "    <tr>\n",
       "      <th>4</th>\n",
       "      <td>2</td>\n",
       "      <td>el Fort Pienc</td>\n",
       "      <td>2.224</td>\n",
       "      <td>2.422</td>\n",
       "      <td>2.736</td>\n",
       "      <td>2.893</td>\n",
       "    </tr>\n",
       "  </tbody>\n",
       "</table>\n",
       "</div>"
      ],
      "text/plain": [
       "   DTE                                 BARRIS   2011   2010   2009   2008\n",
       "0    1                               el Raval  2.176  2.445  2.773  3.065\n",
       "1    1                         el Barri Gòtic  2.632  3.026  3.750  3.828\n",
       "2    1                         la Barceloneta  2.135  3.005     --     --\n",
       "3    1   Sant Pere Santa Caterina i la Ribera  2.482  2.828  3.146  3.450\n",
       "4    2                          el Fort Pienc  2.224  2.422  2.736  2.893"
      ]
     },
     "execution_count": 5,
     "metadata": {},
     "output_type": "execute_result"
    }
   ],
   "source": [
    "# Remove punctuations and also add column for average price, high price, low price\n",
    "df1.head(5)"
   ]
  },
  {
   "attachments": {},
   "cell_type": "markdown",
   "id": "27676275",
   "metadata": {},
   "source": [
    "### Censo Comercial Dataset"
   ]
  },
  {
   "cell_type": "code",
   "execution_count": 251,
   "id": "1e96e6c1",
   "metadata": {},
   "outputs": [
    {
     "name": "stderr",
     "output_type": "stream",
     "text": [
      "/Users/joaquinortega/.pyenv/versions/3.10.6/envs/lewagon/lib/python3.10/site-packages/IPython/core/interactiveshell.py:3505: DtypeWarning: Columns (35,37) have mixed types.Specify dtype option on import or set low_memory=False.\n",
      "  exec(code_obj, self.user_global_ns, self.user_ns)\n"
     ]
    }
   ],
   "source": [
    "df2 = pd.read_csv('../Datos CSV/2019_censcomercialbcn_detall.csv')"
   ]
  },
  {
   "cell_type": "code",
   "execution_count": 252,
   "id": "03809144",
   "metadata": {},
   "outputs": [],
   "source": [
    "# direccion = 'Codi_Via', 'Nom_Via', 'Planta', 'Porta','Lletra_Inicial'\n",
    "censo_cols = ['ID_Bcn_2019','Nom_Principal_Activitat','Nom_Activitat','Nom_Sector_Activitat','Nom_Grup_Activitat','Nom_Local','Latitud','Longitud','Nom_Districte']\n",
    "censo_clean = pd.DataFrame(df2[censo_cols])\n",
    "censo_clean.rename(columns={'Nom_Principal_Activitat':'Actividad Economica','Nom_Activitat':'Nombre de Actividad'}, inplace=True)\n",
    "censo_clean['Actividad Economica'].replace({'Actiu': 'For Profit', 'Sense activitat Econòmica': 'Non Profit'}, inplace=True)"
   ]
  },
  {
   "cell_type": "code",
   "execution_count": 255,
   "id": "fd288c9d",
   "metadata": {},
   "outputs": [
    {
     "data": {
      "text/plain": [
       "Sense informació                                     11164\n",
       "Restaurants                                           5599\n",
       "Sense informació - Havia tingut activitat (rètol)     4276\n",
       "Serveis a les empreses i oficines                     3464\n",
       "Bars   / CIBERCAFÈ                                    3290\n",
       "                                                     ...  \n",
       "Souvenirs i basars                                      40\n",
       "Òptiques i fotografia                                   27\n",
       "Grans magatzems i hipermercats                          20\n",
       "altres                                                  16\n",
       "Altres ( per exemple VENDING)                           16\n",
       "Name: Nombre de Actividad, Length: 83, dtype: int64"
      ]
     },
     "execution_count": 255,
     "metadata": {},
     "output_type": "execute_result"
    }
   ],
   "source": [
    "censo_clean['Nombre de Actividad'].value_counts()"
   ]
  },
  {
   "cell_type": "code",
   "execution_count": 256,
   "id": "312d4d04",
   "metadata": {},
   "outputs": [],
   "source": [
    "first_lambda = ['Sense informació','altres','Altres ( per exemple VENDING)', 'Altres']"
   ]
  },
  {
   "cell_type": "code",
   "execution_count": 257,
   "id": "8aa84a4e",
   "metadata": {},
   "outputs": [
    {
     "data": {
      "text/plain": [
       "Sense informació                                     11164\n",
       "Restaurants                                           5599\n",
       "Sense informació - Havia tingut activitat (rètol)     4276\n",
       "Serveis a les empreses i oficines                     3464\n",
       "Bars   / CIBERCAFÈ                                    3290\n",
       "                                                     ...  \n",
       "Souvenirs i basars                                      40\n",
       "Òptiques i fotografia                                   27\n",
       "Grans magatzems i hipermercats                          20\n",
       "altres                                                  16\n",
       "Altres ( per exemple VENDING)                           16\n",
       "Name: Nombre de Actividad, Length: 83, dtype: int64"
      ]
     },
     "execution_count": 257,
     "metadata": {},
     "output_type": "execute_result"
    }
   ],
   "source": [
    "censo_clean['Nombre de Actividad'].value_counts()"
   ]
  },
  {
   "cell_type": "code",
   "execution_count": 258,
   "id": "c00fc9b5",
   "metadata": {},
   "outputs": [],
   "source": [
    "# Cambiar con la tercera columna - Nom_Grup_Activitat = First Lambda\n",
    "censo_clean['Nombre de Actividad'] = censo_clean.apply(lambda row: row['Nom_Grup_Activitat'] if row['Nombre de Actividad'] in first_lambda else row['Nombre de Actividad'], axis=1)"
   ]
  },
  {
   "cell_type": "code",
   "execution_count": 259,
   "id": "354531f0",
   "metadata": {},
   "outputs": [
    {
     "data": {
      "text/plain": [
       "Grup no definit                                                   11164\n",
       "Restaurants                                                        5599\n",
       "Sense informació - Havia tingut activitat (rètol)                  4276\n",
       "Serveis a les empreses i oficines                                  3464\n",
       "Bars   / CIBERCAFÈ                                                 3290\n",
       "                                                                  ...  \n",
       "Maquinària                                                           67\n",
       "Souvenirs i basars                                                   40\n",
       "Restaurants, bars i hotels (Inclòs hostals, pensions i fondes)       32\n",
       "Òptiques i fotografia                                                27\n",
       "Grans magatzems i hipermercats                                       20\n",
       "Name: Nombre de Actividad, Length: 83, dtype: int64"
      ]
     },
     "execution_count": 259,
     "metadata": {},
     "output_type": "execute_result"
    }
   ],
   "source": [
    "censo_clean['Nombre de Actividad'].value_counts()"
   ]
  },
  {
   "cell_type": "code",
   "execution_count": 260,
   "id": "17e6423b",
   "metadata": {},
   "outputs": [],
   "source": [
    "# Cambiar con la segunda columna - Nom_Sector_Activitat\n",
    "censo_clean['Nombre de Actividad'] = censo_clean.apply(lambda row: row['Nom_Sector_Activitat'] if row['Nombre de Actividad'] in first_lambda else row['Nombre de Actividad'], axis=1)"
   ]
  },
  {
   "cell_type": "code",
   "execution_count": 265,
   "id": "6b448095",
   "metadata": {},
   "outputs": [
    {
     "data": {
      "text/plain": [
       "Grup no definit                                                   11164\n",
       "Restaurants                                                        5599\n",
       "Sense informació - Havia tingut activitat (rètol)                  4276\n",
       "Serveis a les empreses i oficines                                  3464\n",
       "Bars   / CIBERCAFÈ                                                 3290\n",
       "Vestir                                                             3157\n",
       "Perruqueries                                                       2659\n",
       "Autoservei / Supermercat                                           2337\n",
       "Ensenyament                                                        2115\n",
       "Sanitat i assistència                                              2024\n",
       "Activitats de la construcció                                       1965\n",
       "Pa, pastisseria i làctics                                          1562\n",
       "Centres d'estètica                                                 1499\n",
       "Activitats emmagatzematge                                          1442\n",
       "Reparacions (Electrodomèstics i automòbils)                        1405\n",
       "Locals buits en lloguer                                            1396\n",
       "Finances i assegurances                                            1242\n",
       "Farmàcies PARAFARMÀCIA                                             1086\n",
       "Carn i Porc                                                        1069\n",
       "Equipaments culturals i recreatius                                 1037\n",
       "Fruites i verdures                                                 1021\n",
       "Material equipament llar                                            966\n",
       "En reforma                                                          954\n",
       "Associacions                                                        952\n",
       "Activitats immobiliàries                                            950\n",
       "Serveis de menjar take away MENJAR RÀPID                            929\n",
       "Calçat i pell                                                       808\n",
       "serveis d'allotjament                                               740\n",
       "Joieria, rellotgeria i bijuteria                                    731\n",
       "Activitats industrials                                              712\n",
       "Arranjaments                                                        692\n",
       "Informàtica                                                         691\n",
       "Quotidià alimentari                                                 682\n",
       "Comerç al detall /Engròs                                            682\n",
       "Drogueria i perfumeria                                              680\n",
       "Locals buits en venda                                               642\n",
       "Arts gràfiques                                                      642\n",
       "Locals buits en venda i lloguer                                     564\n",
       "Mobles i articles fusta i metall                                    556\n",
       "Basars                                                              554\n",
       "Peix i marisc                                                       499\n",
       "Pàrquings i garatges                                                494\n",
       "Llibres, diaris i revistes                                          453\n",
       "Serveis Socials                                                     450\n",
       "Activitats de transport                                             448\n",
       "Tintoreries                                                         432\n",
       "Joguines i esports                                                  419\n",
       "Tabac i articles fumadors                                           417\n",
       "Equipaments religiosos                                              393\n",
       "Veterinaris / Mascotes                                              392\n",
       "Vehicles                                                            386\n",
       "Altres                                                              385\n",
       "Administració                                                       361\n",
       "Souvenirs                                                           345\n",
       "Herbolaris, dietètica i NUTRICIÓ                                    337\n",
       "Òptiques                                                            328\n",
       "Serveis                                                             324\n",
       "Agències de viatge                                                  324\n",
       "Manteniment, neteja i similars                                      321\n",
       "Bars especials amb actuació / Bars musicals / Discoteques /PUB      315\n",
       "Parament ferreteria                                                 309\n",
       "Gimnàs /fitnes                                                      292\n",
       "Ous i aus                                                           280\n",
       "Begudes                                                             254\n",
       "Serveis de telecomunicacions                                        233\n",
       "Floristeries                                                        229\n",
       "Merceria                                                            222\n",
       "Altres equipaments esportius                                        221\n",
       "Segells, monedes i antiguitats                                      192\n",
       "Aparells domèstics                                                  169\n",
       "Xocolateries / Geladeries / Degustació                              164\n",
       "Locutoris                                                           157\n",
       "Fabricació tèxtil                                                   150\n",
       "Plats preparats (no degustació)                                     146\n",
       "Activitats de transport i emmagatzematge                            141\n",
       "Fotografia                                                          134\n",
       "serveis de menjar i begudes                                          88\n",
       "Música                                                               81\n",
       "Esports                                                              75\n",
       "Combustibles i carburants                                            72\n",
       "Maquinària                                                           67\n",
       "Souvenirs i basars                                                   40\n",
       "Restaurants, bars i hotels (Inclòs hostals, pensions i fondes)       32\n",
       "Òptiques i fotografia                                                27\n",
       "Grans magatzems i hipermercats                                       20\n",
       "Name: Nombre de Actividad, dtype: int64"
      ]
     },
     "execution_count": 265,
     "metadata": {},
     "output_type": "execute_result"
    }
   ],
   "source": [
    "pd.set_option('display.max_rows', None)\n",
    "censo_clean['Nombre de Actividad'].value_counts()"
   ]
  },
  {
   "cell_type": "code",
   "execution_count": 268,
   "id": "9fede68b",
   "metadata": {},
   "outputs": [],
   "source": [
    "censo_clean.to_json('../JSON listos/censo_clean.json', orient='records')  "
   ]
  },
  {
   "attachments": {},
   "cell_type": "markdown",
   "id": "298c1a1c",
   "metadata": {},
   "source": [
    "### CSV Centro Comercial"
   ]
  },
  {
   "cell_type": "code",
   "execution_count": 130,
   "id": "93d038f1",
   "metadata": {},
   "outputs": [],
   "source": [
    "# Load the CSV - Centro Comercial\n",
    "centros_comerciales = pd.read_csv('../Datos CSV/opendatagrans-centres-comercials.csv', encoding='utf-16')"
   ]
  },
  {
   "cell_type": "code",
   "execution_count": 131,
   "id": "c444d31a",
   "metadata": {},
   "outputs": [],
   "source": [
    "# Add new column for categorization\n",
    "centros_comerciales['Tipo_Centro_Comercio'] = 'Centro Comercial'"
   ]
  },
  {
   "attachments": {},
   "cell_type": "markdown",
   "id": "0f22c489",
   "metadata": {},
   "source": [
    "### Galerias Comerciales"
   ]
  },
  {
   "cell_type": "code",
   "execution_count": 132,
   "id": "9794a041",
   "metadata": {},
   "outputs": [],
   "source": [
    "# Load the CSV - Galerias Comerciales\n",
    "galerias = pd.read_csv('../Datos CSV/opendata_galeries-comercials.csv', encoding='utf-16')"
   ]
  },
  {
   "cell_type": "code",
   "execution_count": 133,
   "id": "4c9c598e",
   "metadata": {},
   "outputs": [],
   "source": [
    "# Add new column for categorization - Galerias Comerciales\n",
    "galerias['Tipo_Centro_Comercio'] = 'Galeria Comercial'"
   ]
  },
  {
   "attachments": {},
   "cell_type": "markdown",
   "id": "299a076f",
   "metadata": {},
   "source": [
    "### Mercats Fires al Carrer"
   ]
  },
  {
   "cell_type": "code",
   "execution_count": 134,
   "id": "75d94b8f",
   "metadata": {},
   "outputs": [],
   "source": [
    "# Add new column for categorization - Galerias Comerciales\n",
    "mercats_fires = pd.read_csv('../Datos CSV/opendata_mercats-fires-al-carrer.csv', encoding='utf-16')"
   ]
  },
  {
   "cell_type": "code",
   "execution_count": 135,
   "id": "a9eb9a89",
   "metadata": {},
   "outputs": [],
   "source": [
    "mercats_fires['Tipo_Centro_Comercio'] = 'Feria'"
   ]
  },
  {
   "attachments": {},
   "cell_type": "markdown",
   "id": "6b56e7a4",
   "metadata": {},
   "source": [
    "### Mercados Municipales"
   ]
  },
  {
   "cell_type": "code",
   "execution_count": 136,
   "id": "e9219981",
   "metadata": {},
   "outputs": [],
   "source": [
    "mercats_municipals = pd.read_csv('../Datos CSV/opendata_mercats-municipals.csv', encoding='utf-16')"
   ]
  },
  {
   "cell_type": "code",
   "execution_count": 137,
   "id": "139343ae",
   "metadata": {},
   "outputs": [],
   "source": [
    "mercats_municipals['Tipo_Centro_Comercio'] = 'Mercado Municipal'"
   ]
  },
  {
   "attachments": {},
   "cell_type": "markdown",
   "id": "d50b5695",
   "metadata": {},
   "source": [
    "### Concatenation of Centros de Comercio"
   ]
  },
  {
   "cell_type": "code",
   "execution_count": 138,
   "id": "998cd5d8",
   "metadata": {},
   "outputs": [],
   "source": [
    "comercio_bcn = pd.concat([centros_comerciales, galerias, mercats_fires, mercats_municipals])"
   ]
  },
  {
   "cell_type": "code",
   "execution_count": 146,
   "id": "05425428",
   "metadata": {},
   "outputs": [
    {
     "data": {
      "text/html": [
       "<div>\n",
       "<style scoped>\n",
       "    .dataframe tbody tr th:only-of-type {\n",
       "        vertical-align: middle;\n",
       "    }\n",
       "\n",
       "    .dataframe tbody tr th {\n",
       "        vertical-align: top;\n",
       "    }\n",
       "\n",
       "    .dataframe thead th {\n",
       "        text-align: right;\n",
       "    }\n",
       "</style>\n",
       "<table border=\"1\" class=\"dataframe\">\n",
       "  <thead>\n",
       "    <tr style=\"text-align: right;\">\n",
       "      <th></th>\n",
       "      <th>register_id</th>\n",
       "      <th>name</th>\n",
       "      <th>addresses_road_name</th>\n",
       "      <th>addresses_start_street_number</th>\n",
       "      <th>addresses_district_name</th>\n",
       "      <th>addresses_zip_code</th>\n",
       "      <th>geo_epgs_4326_x</th>\n",
       "      <th>geo_epgs_4326_y</th>\n",
       "      <th>Tipo_Centro_Comercio</th>\n",
       "    </tr>\n",
       "  </thead>\n",
       "  <tbody>\n",
       "    <tr>\n",
       "      <th>0</th>\n",
       "      <td>﻿1256130510</td>\n",
       "      <td>Centre Comercial Som Multiespai</td>\n",
       "      <td>Av Rio de Janeiro</td>\n",
       "      <td>42</td>\n",
       "      <td>Nou Barris</td>\n",
       "      <td>8016</td>\n",
       "      <td>41.435125</td>\n",
       "      <td>2.181042</td>\n",
       "      <td>Centro Comercial</td>\n",
       "    </tr>\n",
       "    <tr>\n",
       "      <th>1</th>\n",
       "      <td>﻿1313140637</td>\n",
       "      <td>Centre Comercial Diagonal Mar</td>\n",
       "      <td>Av Diagonal</td>\n",
       "      <td>3</td>\n",
       "      <td>Sant Martí</td>\n",
       "      <td>8019</td>\n",
       "      <td>41.410457</td>\n",
       "      <td>2.216423</td>\n",
       "      <td>Centro Comercial</td>\n",
       "    </tr>\n",
       "    <tr>\n",
       "      <th>2</th>\n",
       "      <td>﻿95111123350</td>\n",
       "      <td>Hipermercat Carrefour *Glòries</td>\n",
       "      <td>Av Diagonal</td>\n",
       "      <td>208</td>\n",
       "      <td>Sant Martí</td>\n",
       "      <td>8018</td>\n",
       "      <td>41.404976</td>\n",
       "      <td>2.192521</td>\n",
       "      <td>Centro Comercial</td>\n",
       "    </tr>\n",
       "    <tr>\n",
       "      <th>3</th>\n",
       "      <td>﻿93308093528</td>\n",
       "      <td>Centre Comercial L'Illa Diagonal</td>\n",
       "      <td>Av Diagonal</td>\n",
       "      <td>557</td>\n",
       "      <td>Les Corts</td>\n",
       "      <td>8029</td>\n",
       "      <td>41.389746</td>\n",
       "      <td>2.135396</td>\n",
       "      <td>Centro Comercial</td>\n",
       "    </tr>\n",
       "    <tr>\n",
       "      <th>4</th>\n",
       "      <td>﻿93293093019</td>\n",
       "      <td>Centre Comercial Westfield Glòries</td>\n",
       "      <td>Av Diagonal</td>\n",
       "      <td>208</td>\n",
       "      <td>Sant Martí</td>\n",
       "      <td>8018</td>\n",
       "      <td>41.404976</td>\n",
       "      <td>2.192521</td>\n",
       "      <td>Centro Comercial</td>\n",
       "    </tr>\n",
       "    <tr>\n",
       "      <th>...</th>\n",
       "      <td>...</td>\n",
       "      <td>...</td>\n",
       "      <td>...</td>\n",
       "      <td>...</td>\n",
       "      <td>...</td>\n",
       "      <td>...</td>\n",
       "      <td>...</td>\n",
       "      <td>...</td>\n",
       "      <td>...</td>\n",
       "    </tr>\n",
       "    <tr>\n",
       "      <th>46</th>\n",
       "      <td>﻿92086019717</td>\n",
       "      <td>Mercat de Canyelles</td>\n",
       "      <td>Carrer d'Antonio Machado</td>\n",
       "      <td>10</td>\n",
       "      <td>Nou Barris</td>\n",
       "      <td>8042</td>\n",
       "      <td>41.441988</td>\n",
       "      <td>2.164427</td>\n",
       "      <td>Mercado Municipal</td>\n",
       "    </tr>\n",
       "    <tr>\n",
       "      <th>47</th>\n",
       "      <td>﻿96058202955</td>\n",
       "      <td>Mercat Dominical de Sant Antoni</td>\n",
       "      <td>C Comte d'Urgell</td>\n",
       "      <td>1</td>\n",
       "      <td>Eixample</td>\n",
       "      <td>8011</td>\n",
       "      <td>41.379568</td>\n",
       "      <td>2.161743</td>\n",
       "      <td>Mercado Municipal</td>\n",
       "    </tr>\n",
       "    <tr>\n",
       "      <th>48</th>\n",
       "      <td>﻿96058202955</td>\n",
       "      <td>Mercat Dominical de Sant Antoni</td>\n",
       "      <td>C Comte d'Urgell</td>\n",
       "      <td>1</td>\n",
       "      <td>Eixample</td>\n",
       "      <td>8011</td>\n",
       "      <td>41.379568</td>\n",
       "      <td>2.161743</td>\n",
       "      <td>Mercado Municipal</td>\n",
       "    </tr>\n",
       "    <tr>\n",
       "      <th>49</th>\n",
       "      <td>﻿99400695137</td>\n",
       "      <td>Mercat de Núria</td>\n",
       "      <td>Avinguda dels Rasos de Peguera</td>\n",
       "      <td>186</td>\n",
       "      <td>Nou Barris</td>\n",
       "      <td>8033</td>\n",
       "      <td>41.459952</td>\n",
       "      <td>2.172637</td>\n",
       "      <td>Mercado Municipal</td>\n",
       "    </tr>\n",
       "    <tr>\n",
       "      <th>50</th>\n",
       "      <td>﻿99400069155</td>\n",
       "      <td>Mercat del Fort Pienc</td>\n",
       "      <td>Pl Fort Pienc</td>\n",
       "      <td>3</td>\n",
       "      <td>Eixample</td>\n",
       "      <td>8013</td>\n",
       "      <td>41.395774</td>\n",
       "      <td>2.182541</td>\n",
       "      <td>Mercado Municipal</td>\n",
       "    </tr>\n",
       "  </tbody>\n",
       "</table>\n",
       "<p>129 rows × 9 columns</p>\n",
       "</div>"
      ],
      "text/plain": [
       "     register_id                                name  \\\n",
       "0    ﻿1256130510     Centre Comercial Som Multiespai   \n",
       "1    ﻿1313140637       Centre Comercial Diagonal Mar   \n",
       "2   ﻿95111123350      Hipermercat Carrefour *Glòries   \n",
       "3   ﻿93308093528    Centre Comercial L'Illa Diagonal   \n",
       "4   ﻿93293093019  Centre Comercial Westfield Glòries   \n",
       "..           ...                                 ...   \n",
       "46  ﻿92086019717                 Mercat de Canyelles   \n",
       "47  ﻿96058202955     Mercat Dominical de Sant Antoni   \n",
       "48  ﻿96058202955     Mercat Dominical de Sant Antoni   \n",
       "49  ﻿99400695137                     Mercat de Núria   \n",
       "50  ﻿99400069155               Mercat del Fort Pienc   \n",
       "\n",
       "               addresses_road_name  addresses_start_street_number  \\\n",
       "0                Av Rio de Janeiro                             42   \n",
       "1                      Av Diagonal                              3   \n",
       "2                      Av Diagonal                            208   \n",
       "3                      Av Diagonal                            557   \n",
       "4                      Av Diagonal                            208   \n",
       "..                             ...                            ...   \n",
       "46        Carrer d'Antonio Machado                             10   \n",
       "47                C Comte d'Urgell                              1   \n",
       "48                C Comte d'Urgell                              1   \n",
       "49  Avinguda dels Rasos de Peguera                            186   \n",
       "50                   Pl Fort Pienc                              3   \n",
       "\n",
       "   addresses_district_name  addresses_zip_code  geo_epgs_4326_x  \\\n",
       "0               Nou Barris                8016        41.435125   \n",
       "1               Sant Martí                8019        41.410457   \n",
       "2               Sant Martí                8018        41.404976   \n",
       "3                Les Corts                8029        41.389746   \n",
       "4               Sant Martí                8018        41.404976   \n",
       "..                     ...                 ...              ...   \n",
       "46              Nou Barris                8042        41.441988   \n",
       "47                Eixample                8011        41.379568   \n",
       "48                Eixample                8011        41.379568   \n",
       "49              Nou Barris                8033        41.459952   \n",
       "50                Eixample                8013        41.395774   \n",
       "\n",
       "    geo_epgs_4326_y Tipo_Centro_Comercio  \n",
       "0          2.181042     Centro Comercial  \n",
       "1          2.216423     Centro Comercial  \n",
       "2          2.192521     Centro Comercial  \n",
       "3          2.135396     Centro Comercial  \n",
       "4          2.192521     Centro Comercial  \n",
       "..              ...                  ...  \n",
       "46         2.164427    Mercado Municipal  \n",
       "47         2.161743    Mercado Municipal  \n",
       "48         2.161743    Mercado Municipal  \n",
       "49         2.172637    Mercado Municipal  \n",
       "50         2.182541    Mercado Municipal  \n",
       "\n",
       "[129 rows x 9 columns]"
      ]
     },
     "execution_count": 146,
     "metadata": {},
     "output_type": "execute_result"
    }
   ],
   "source": [
    "comercio_cols = ['register_id','name','addresses_road_name','addresses_start_street_number','addresses_district_name','addresses_zip_code','geo_epgs_4326_x','geo_epgs_4326_y','Tipo_Centro_Comercio']\n",
    "filtered_comercio = pd.DataFrame(comercio_bcn[comercio_cols])\n",
    "filtered_comercio"
   ]
  },
  {
   "attachments": {},
   "cell_type": "markdown",
   "id": "6b58c8d5",
   "metadata": {},
   "source": []
  }
 ],
 "metadata": {
  "kernelspec": {
   "display_name": "Python 3 (ipykernel)",
   "language": "python",
   "name": "python3"
  },
  "language_info": {
   "codemirror_mode": {
    "name": "ipython",
    "version": 3
   },
   "file_extension": ".py",
   "mimetype": "text/x-python",
   "name": "python",
   "nbconvert_exporter": "python",
   "pygments_lexer": "ipython3",
   "version": "3.10.6"
  },
  "toc": {
   "base_numbering": 1,
   "nav_menu": {},
   "number_sections": true,
   "sideBar": true,
   "skip_h1_title": false,
   "title_cell": "Table of Contents",
   "title_sidebar": "Contents",
   "toc_cell": false,
   "toc_position": {},
   "toc_section_display": true,
   "toc_window_display": false
  }
 },
 "nbformat": 4,
 "nbformat_minor": 5
}
