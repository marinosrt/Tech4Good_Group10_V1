{
 "cells": [
  {
   "cell_type": "code",
   "execution_count": 20,
   "id": "8f82a5d4",
   "metadata": {},
   "outputs": [],
   "source": [
    "import pandas as pd\n",
    "import numpy as np"
   ]
  },
  {
   "attachments": {},
   "cell_type": "markdown",
   "id": "213f0d84",
   "metadata": {},
   "source": [
    "#### Cleaning the Censo dataset\n",
    "\n",
    "This dataset contains information on the average price of rent in different neighborhoods of Barcelona"
   ]
  },
  {
   "cell_type": "code",
   "execution_count": 21,
   "id": "aca54281",
   "metadata": {
    "scrolled": true
   },
   "outputs": [],
   "source": [
    "# Estimacion del precio mensual de locales commerciales por barrio en años 2011, 2010, 2009, 2008\n",
    "df1 = pd.read_csv('../Datos CSV/locveevolucio.csv')\n",
    "relabel = {'BARRIS': 'NOM', 'DOSZEROONZE': '2011', 'DOSZERODEU': '2010', 'DOSZEROZERONOU': '2009', 'DOSZEROZEROVUIT': '2008'}\n",
    "df1.rename(columns=relabel, inplace=True)\n",
    "df1.drop(columns='DTE', inplace=True)"
   ]
  },
  {
   "cell_type": "code",
   "execution_count": 22,
   "id": "39841f65",
   "metadata": {},
   "outputs": [],
   "source": [
    "# Function to clean the data\n",
    "def replace_characters(df, columns):\n",
    "    for column in columns:\n",
    "        df[column] = df[column].str.replace('[\\.,]', '')\n",
    "        df[column] = df[column].str.strip()\n",
    "    return df\n",
    "\n",
    "def remove_numbers(df, columns):\n",
    "    for column in columns:\n",
    "        df[column] = df[column].str.replace('\\d', '')\n",
    "        df[column] = df[column].str.strip()\n",
    "    return df"
   ]
  },
  {
   "cell_type": "code",
   "execution_count": 23,
   "id": "e5405327",
   "metadata": {},
   "outputs": [
    {
     "name": "stderr",
     "output_type": "stream",
     "text": [
<<<<<<< HEAD
      "/var/folders/hp/ytf1kqk92hd11vlmtk9zz38r0000gn/T/ipykernel_28069/1137789237.py:4: FutureWarning: The default value of regex will change from True to False in a future version.\n",
      "  df[column] = df[column].str.replace('[\\.,]', '')\n",
      "/var/folders/hp/ytf1kqk92hd11vlmtk9zz38r0000gn/T/ipykernel_28069/1137789237.py:10: FutureWarning: The default value of regex will change from True to False in a future version.\n",
      "  df[column] = df[column].str.replace('\\d', '')\n"
=======
      "/var/folders/hp/ytf1kqk92hd11vlmtk9zz38r0000gn/T/ipykernel_90231/3902438200.py:1: FutureWarning: The default value of regex will change from True to False in a future version.\n",
      "  df1['BARRIS'] = df1['BARRIS'].str.replace('[\\.,0-9]', '')\n"
>>>>>>> a5bf5e8ddd7891a818d6ae9eddd9ddd52f987214
     ]
    },
    {
     "data": {
      "text/html": [
       "<div>\n",
       "<style scoped>\n",
       "    .dataframe tbody tr th:only-of-type {\n",
       "        vertical-align: middle;\n",
       "    }\n",
       "\n",
       "    .dataframe tbody tr th {\n",
       "        vertical-align: top;\n",
       "    }\n",
       "\n",
       "    .dataframe thead th {\n",
       "        text-align: right;\n",
       "    }\n",
       "</style>\n",
       "<table border=\"1\" class=\"dataframe\">\n",
       "  <thead>\n",
       "    <tr style=\"text-align: right;\">\n",
       "      <th></th>\n",
       "      <th>NOM</th>\n",
       "      <th>2011</th>\n",
       "      <th>2010</th>\n",
       "      <th>2009</th>\n",
       "      <th>2008</th>\n",
       "    </tr>\n",
       "  </thead>\n",
       "  <tbody>\n",
       "    <tr>\n",
       "      <th>0</th>\n",
       "      <td>el Raval</td>\n",
       "      <td>2176</td>\n",
       "      <td>2445</td>\n",
       "      <td>2773</td>\n",
       "      <td>3065</td>\n",
       "    </tr>\n",
       "    <tr>\n",
       "      <th>1</th>\n",
       "      <td>el Barri Gòtic</td>\n",
       "      <td>2632</td>\n",
       "      <td>3026</td>\n",
       "      <td>3750</td>\n",
       "      <td>3828</td>\n",
       "    </tr>\n",
       "    <tr>\n",
       "      <th>2</th>\n",
       "      <td>la Barceloneta</td>\n",
       "      <td>2135</td>\n",
       "      <td>3005</td>\n",
       "      <td>--</td>\n",
       "      <td>--</td>\n",
       "    </tr>\n",
       "    <tr>\n",
       "      <th>3</th>\n",
       "      <td>Sant Pere Santa Caterina i la Ribera</td>\n",
       "      <td>2482</td>\n",
       "      <td>2828</td>\n",
       "      <td>3146</td>\n",
       "      <td>3450</td>\n",
       "    </tr>\n",
       "    <tr>\n",
       "      <th>4</th>\n",
       "      <td>el Fort Pienc</td>\n",
       "      <td>2224</td>\n",
       "      <td>2422</td>\n",
       "      <td>2736</td>\n",
       "      <td>2893</td>\n",
       "    </tr>\n",
       "    <tr>\n",
       "      <th>...</th>\n",
       "      <td>...</td>\n",
       "      <td>...</td>\n",
       "      <td>...</td>\n",
       "      <td>...</td>\n",
       "      <td>...</td>\n",
       "    </tr>\n",
       "    <tr>\n",
       "      <th>68</th>\n",
       "      <td>Diagonal Mar i el Front Marítim del Poblenou</td>\n",
       "      <td>2651</td>\n",
       "      <td>2991</td>\n",
       "      <td>2445</td>\n",
       "      <td>3752</td>\n",
       "    </tr>\n",
       "    <tr>\n",
       "      <th>69</th>\n",
       "      <td>el Besòs i el Maresme</td>\n",
       "      <td>2121</td>\n",
       "      <td>2751</td>\n",
       "      <td>2842</td>\n",
       "      <td>3669</td>\n",
       "    </tr>\n",
       "    <tr>\n",
       "      <th>70</th>\n",
       "      <td>Provençals del Poblenou</td>\n",
       "      <td>2255</td>\n",
       "      <td>2516</td>\n",
       "      <td>2660</td>\n",
       "      <td>3857</td>\n",
       "    </tr>\n",
       "    <tr>\n",
       "      <th>71</th>\n",
       "      <td>Sant Martí de Provençals</td>\n",
       "      <td>1812</td>\n",
       "      <td>2175</td>\n",
       "      <td>2266</td>\n",
       "      <td>1957</td>\n",
       "    </tr>\n",
       "    <tr>\n",
       "      <th>72</th>\n",
       "      <td>la Verneda i la Pau</td>\n",
       "      <td>1534</td>\n",
       "      <td>1915</td>\n",
       "      <td>1973</td>\n",
       "      <td>2199</td>\n",
       "    </tr>\n",
       "  </tbody>\n",
       "</table>\n",
       "<p>73 rows × 5 columns</p>\n",
       "</div>"
      ],
      "text/plain": [
       "                                             NOM  2011  2010  2009  2008\n",
       "0                                       el Raval  2176  2445  2773  3065\n",
       "1                                 el Barri Gòtic  2632  3026  3750  3828\n",
       "2                                 la Barceloneta  2135  3005    --    --\n",
       "3           Sant Pere Santa Caterina i la Ribera  2482  2828  3146  3450\n",
       "4                                  el Fort Pienc  2224  2422  2736  2893\n",
       "..                                           ...   ...   ...   ...   ...\n",
       "68  Diagonal Mar i el Front Marítim del Poblenou  2651  2991  2445  3752\n",
       "69                         el Besòs i el Maresme  2121  2751  2842  3669\n",
       "70                       Provençals del Poblenou  2255  2516  2660  3857\n",
       "71                      Sant Martí de Provençals  1812  2175  2266  1957\n",
       "72                           la Verneda i la Pau  1534  1915  1973  2199\n",
       "\n",
       "[73 rows x 5 columns]"
      ]
     },
     "execution_count": 23,
     "metadata": {},
     "output_type": "execute_result"
    }
   ],
   "source": [
    "# Cleaning the data, applying the functions\n",
    "replace_characters(df1, ['NOM', '2011', '2010', '2009', '2008'])\n",
    "remove_numbers(df1, ['NOM'])"
   ]
  },
  {
   "cell_type": "code",
<<<<<<< HEAD
   "execution_count": 24,
   "id": "dfbc7d5e",
   "metadata": {},
   "outputs": [
    {
     "name": "stderr",
     "output_type": "stream",
     "text": [
      "/Users/joaquinortega/.pyenv/versions/3.10.6/envs/lewagon/lib/python3.10/site-packages/pandas/core/frame.py:3641: SettingWithCopyWarning: \n",
      "A value is trying to be set on a copy of a slice from a DataFrame.\n",
      "Try using .loc[row_indexer,col_indexer] = value instead\n",
      "\n",
      "See the caveats in the documentation: https://pandas.pydata.org/pandas-docs/stable/user_guide/indexing.html#returning-a-view-versus-a-copy\n",
      "  self[k1] = value[k2]\n"
     ]
    }
   ],
   "source": [
    "df1 = df1[~(df1 == '--').any(axis=1)]\n",
    "# Correct data types\n",
    "df1[['2011', '2010', '2009', '2008']] = df1[['2011', '2010', '2009', '2008']].astype(int)"
   ]
  },
  {
   "cell_type": "code",
   "execution_count": 25,
   "id": "9b04021d",
   "metadata": {},
   "outputs": [
    {
     "name": "stderr",
     "output_type": "stream",
     "text": [
      "/var/folders/hp/ytf1kqk92hd11vlmtk9zz38r0000gn/T/ipykernel_28069/2974047653.py:1: SettingWithCopyWarning: \n",
      "A value is trying to be set on a copy of a slice from a DataFrame.\n",
      "Try using .loc[row_indexer,col_indexer] = value instead\n",
      "\n",
      "See the caveats in the documentation: https://pandas.pydata.org/pandas-docs/stable/user_guide/indexing.html#returning-a-view-versus-a-copy\n",
      "  df1['price level'] = df1['2011'] - df1['2011'].mean()\n"
     ]
    }
   ],
   "source": [
    "df1['price level'] = df1['2011'] - df1['2011'].mean()"
   ]
  },
  {
   "cell_type": "code",
   "execution_count": 280,
   "id": "a2664a49",
   "metadata": {},
   "outputs": [],
   "source": [
    "# df1.to_csv('../Datos CSV/precios_clean.csv', index=False)"
   ]
  },
  {
   "attachments": {},
   "cell_type": "markdown",
   "id": "27676275",
   "metadata": {},
   "source": [
    "### Censo Comercial Dataset"
   ]
  },
  {
   "cell_type": "code",
   "execution_count": 28,
   "id": "1e96e6c1",
   "metadata": {},
   "outputs": [
    {
     "name": "stderr",
     "output_type": "stream",
     "text": [
      "/Users/joaquinortega/.pyenv/versions/3.10.6/envs/lewagon/lib/python3.10/site-packages/IPython/core/interactiveshell.py:3505: DtypeWarning: Columns (35,37) have mixed types.Specify dtype option on import or set low_memory=False.\n",
      "  exec(code_obj, self.user_global_ns, self.user_ns)\n"
     ]
    }
   ],
   "source": [
    "df2 = pd.read_csv('../Datos CSV/2019_censcomercialbcn_detall.csv')"
   ]
  },
  {
   "cell_type": "code",
   "execution_count": 29,
   "id": "03809144",
   "metadata": {},
   "outputs": [],
   "source": [
    "# direccion = 'Codi_Via', 'Nom_Via', 'Planta', 'Porta','Lletra_Inicial'\n",
    "censo_cols = ['ID_Bcn_2019','Nom_Principal_Activitat','Nom_Activitat','Nom_Sector_Activitat','Nom_Grup_Activitat','Nom_Local','Latitud','Longitud','Nom_Districte', 'Nom_Barri']\n",
    "censo_clean = pd.DataFrame(df2[censo_cols])\n",
    "censo_clean.rename(columns={'Nom_Principal_Activitat':'Actividad Economica','Nom_Activitat':'Nombre de Actividad', 'Nom_Barri': 'Nombre del Barrio'}, inplace=True)\n",
    "censo_clean['Actividad Economica'].replace({'Actiu': 'For Profit', 'Sense activitat Econòmica': 'Non Profit'}, inplace=True)"
   ]
  },
  {
   "cell_type": "code",
   "execution_count": 30,
   "id": "312d4d04",
   "metadata": {},
   "outputs": [],
   "source": [
    "first_lambda = ['Sense informació','altres','Altres ( per exemple VENDING)', 'Altres']"
   ]
  },
  {
   "cell_type": "code",
   "execution_count": 31,
   "id": "c00fc9b5",
   "metadata": {},
   "outputs": [],
   "source": [
    "# Cambiar con la tercera columna - Nom_Grup_Activitat = First Lambda\n",
    "censo_clean['Nombre de Actividad'] = censo_clean.apply(lambda row: row['Nom_Grup_Activitat'] if row['Nombre de Actividad'] in first_lambda else row['Nombre de Actividad'], axis=1)"
   ]
  },
  {
   "cell_type": "code",
   "execution_count": 32,
   "id": "17e6423b",
   "metadata": {},
   "outputs": [],
   "source": [
    "# Cambiar con la segunda columna - Nom_Sector_Activitat\n",
    "censo_clean['Nombre de Actividad'] = censo_clean.apply(lambda row: row['Nom_Sector_Activitat'] if row['Nombre de Actividad'] in first_lambda else row['Nombre de Actividad'], axis=1)"
   ]
  },
  {
   "cell_type": "code",
   "execution_count": 33,
   "id": "6b448095",
   "metadata": {},
   "outputs": [],
   "source": [
    "# pd.set_option('display.max_rows', None)\n",
    "# censo_clean['Nombre de Actividad'].value_counts()"
   ]
  },
  {
   "cell_type": "code",
   "execution_count": 34,
   "id": "7d7dd82c",
=======
   "execution_count": 4,
   "id": "167eb886",
>>>>>>> a5bf5e8ddd7891a818d6ae9eddd9ddd52f987214
   "metadata": {},
   "outputs": [
    {
     "data": {
      "text/html": [
       "<div>\n",
       "<style scoped>\n",
       "    .dataframe tbody tr th:only-of-type {\n",
       "        vertical-align: middle;\n",
       "    }\n",
       "\n",
       "    .dataframe tbody tr th {\n",
       "        vertical-align: top;\n",
       "    }\n",
       "\n",
       "    .dataframe thead th {\n",
       "        text-align: right;\n",
       "    }\n",
       "</style>\n",
       "<table border=\"1\" class=\"dataframe\">\n",
       "  <thead>\n",
       "    <tr style=\"text-align: right;\">\n",
       "      <th></th>\n",
       "      <th>ID_Bcn_2019</th>\n",
       "      <th>Actividad Economica</th>\n",
       "      <th>Nombre de Actividad</th>\n",
       "      <th>Nom_Sector_Activitat</th>\n",
       "      <th>Nom_Grup_Activitat</th>\n",
       "      <th>Nom_Local</th>\n",
       "      <th>Latitud</th>\n",
       "      <th>Longitud</th>\n",
       "      <th>Nom_Districte</th>\n",
       "      <th>Nombre del Barrio</th>\n",
       "    </tr>\n",
       "  </thead>\n",
       "  <tbody>\n",
       "    <tr>\n",
       "      <th>0</th>\n",
       "      <td>1075454</td>\n",
       "      <td>For Profit</td>\n",
       "      <td>Serveis a les empreses i oficines</td>\n",
       "      <td>Serveis</td>\n",
       "      <td>Altres</td>\n",
       "      <td>SORIGUE</td>\n",
       "      <td>41.346101</td>\n",
       "      <td>2.130166</td>\n",
       "      <td>Sants-Montjuïc</td>\n",
       "      <td>la Marina del Prat Vermell</td>\n",
       "    </tr>\n",
       "    <tr>\n",
       "      <th>1</th>\n",
       "      <td>1075453</td>\n",
       "      <td>For Profit</td>\n",
       "      <td>Activitats emmagatzematge</td>\n",
       "      <td>Serveis</td>\n",
       "      <td>Altres</td>\n",
       "      <td>CEJIDOS SIVILA S.A</td>\n",
       "      <td>41.345939</td>\n",
       "      <td>2.129560</td>\n",
       "      <td>Sants-Montjuïc</td>\n",
       "      <td>la Marina del Prat Vermell</td>\n",
       "    </tr>\n",
       "    <tr>\n",
       "      <th>2</th>\n",
       "      <td>1075451</td>\n",
       "      <td>For Profit</td>\n",
       "      <td>Serveis a les empreses i oficines</td>\n",
       "      <td>Serveis</td>\n",
       "      <td>Altres</td>\n",
       "      <td>QUALITY ESPRESO</td>\n",
       "      <td>41.345591</td>\n",
       "      <td>2.128543</td>\n",
       "      <td>Sants-Montjuïc</td>\n",
       "      <td>la Marina del Prat Vermell</td>\n",
       "    </tr>\n",
       "    <tr>\n",
       "      <th>3</th>\n",
       "      <td>1075449</td>\n",
       "      <td>For Profit</td>\n",
       "      <td>Administració</td>\n",
       "      <td>Altres</td>\n",
       "      <td>Altres</td>\n",
       "      <td>CLD</td>\n",
       "      <td>41.346262</td>\n",
       "      <td>2.130599</td>\n",
       "      <td>Sants-Montjuïc</td>\n",
       "      <td>la Marina del Prat Vermell</td>\n",
       "    </tr>\n",
       "    <tr>\n",
       "      <th>4</th>\n",
       "      <td>1075448</td>\n",
       "      <td>For Profit</td>\n",
       "      <td>Activitats de transport</td>\n",
       "      <td>Serveis</td>\n",
       "      <td>Altres</td>\n",
       "      <td>CATALANA DEL BUTANO,S.A</td>\n",
       "      <td>41.346514</td>\n",
       "      <td>2.131271</td>\n",
       "      <td>Sants-Montjuïc</td>\n",
       "      <td>la Marina del Prat Vermell</td>\n",
       "    </tr>\n",
       "    <tr>\n",
       "      <th>...</th>\n",
       "      <td>...</td>\n",
       "      <td>...</td>\n",
       "      <td>...</td>\n",
       "      <td>...</td>\n",
       "      <td>...</td>\n",
       "      <td>...</td>\n",
       "      <td>...</td>\n",
       "      <td>...</td>\n",
       "      <td>...</td>\n",
       "      <td>...</td>\n",
       "    </tr>\n",
       "    <tr>\n",
       "      <th>80549</th>\n",
       "      <td>1014791</td>\n",
       "      <td>For Profit</td>\n",
       "      <td>Altres equipaments esportius</td>\n",
       "      <td>Altres</td>\n",
       "      <td>Altres</td>\n",
       "      <td>COSTURART</td>\n",
       "      <td>41.422618</td>\n",
       "      <td>2.177690</td>\n",
       "      <td>Horta-Guinardó</td>\n",
       "      <td>el Guinardó</td>\n",
       "    </tr>\n",
       "    <tr>\n",
       "      <th>80550</th>\n",
       "      <td>1014789</td>\n",
       "      <td>For Profit</td>\n",
       "      <td>Activitats de transport</td>\n",
       "      <td>Serveis</td>\n",
       "      <td>Altres</td>\n",
       "      <td>ABRILBIKE</td>\n",
       "      <td>41.399403</td>\n",
       "      <td>2.178403</td>\n",
       "      <td>Eixample</td>\n",
       "      <td>el Fort Pienc</td>\n",
       "    </tr>\n",
       "    <tr>\n",
       "      <th>80551</th>\n",
       "      <td>1014761</td>\n",
       "      <td>For Profit</td>\n",
       "      <td>Altres equipaments esportius</td>\n",
       "      <td>Altres</td>\n",
       "      <td>Altres</td>\n",
       "      <td>FUTBOL SALA VALLDAURA</td>\n",
       "      <td>41.441363</td>\n",
       "      <td>2.161877</td>\n",
       "      <td>Horta-Guinardó</td>\n",
       "      <td>Horta</td>\n",
       "    </tr>\n",
       "    <tr>\n",
       "      <th>80552</th>\n",
       "      <td>1014755</td>\n",
       "      <td>For Profit</td>\n",
       "      <td>Equipaments religiosos</td>\n",
       "      <td>Altres</td>\n",
       "      <td>Altres</td>\n",
       "      <td>ESGLESIA ORTODOXA PATRIARCAT DE SERBIA</td>\n",
       "      <td>41.387255</td>\n",
       "      <td>2.158082</td>\n",
       "      <td>Eixample</td>\n",
       "      <td>l'Antiga Esquerra de l'Eixample</td>\n",
       "    </tr>\n",
       "    <tr>\n",
       "      <th>80553</th>\n",
       "      <td>1014751</td>\n",
       "      <td>For Profit</td>\n",
       "      <td>Serveis a les empreses i oficines</td>\n",
       "      <td>Serveis</td>\n",
       "      <td>Altres</td>\n",
       "      <td>FA ASSESSORS</td>\n",
       "      <td>41.391743</td>\n",
       "      <td>2.144485</td>\n",
       "      <td>Eixample</td>\n",
       "      <td>l'Antiga Esquerra de l'Eixample</td>\n",
       "    </tr>\n",
       "  </tbody>\n",
       "</table>\n",
       "<p>80554 rows × 10 columns</p>\n",
       "</div>"
      ],
      "text/plain": [
       "       ID_Bcn_2019 Actividad Economica                Nombre de Actividad  \\\n",
       "0          1075454          For Profit  Serveis a les empreses i oficines   \n",
       "1          1075453          For Profit          Activitats emmagatzematge   \n",
       "2          1075451          For Profit  Serveis a les empreses i oficines   \n",
       "3          1075449          For Profit                      Administració   \n",
       "4          1075448          For Profit           Activitats de transport    \n",
       "...            ...                 ...                                ...   \n",
       "80549      1014791          For Profit       Altres equipaments esportius   \n",
       "80550      1014789          For Profit           Activitats de transport    \n",
       "80551      1014761          For Profit       Altres equipaments esportius   \n",
       "80552      1014755          For Profit             Equipaments religiosos   \n",
       "80553      1014751          For Profit  Serveis a les empreses i oficines   \n",
       "\n",
       "      Nom_Sector_Activitat Nom_Grup_Activitat  \\\n",
       "0                  Serveis             Altres   \n",
       "1                  Serveis             Altres   \n",
       "2                  Serveis             Altres   \n",
       "3                   Altres             Altres   \n",
       "4                  Serveis             Altres   \n",
       "...                    ...                ...   \n",
       "80549               Altres             Altres   \n",
       "80550              Serveis             Altres   \n",
       "80551               Altres             Altres   \n",
       "80552               Altres             Altres   \n",
       "80553              Serveis             Altres   \n",
       "\n",
       "                                    Nom_Local    Latitud  Longitud  \\\n",
       "0                                     SORIGUE  41.346101  2.130166   \n",
       "1                          CEJIDOS SIVILA S.A  41.345939  2.129560   \n",
       "2                             QUALITY ESPRESO  41.345591  2.128543   \n",
       "3                                         CLD  41.346262  2.130599   \n",
       "4                     CATALANA DEL BUTANO,S.A  41.346514  2.131271   \n",
       "...                                       ...        ...       ...   \n",
       "80549                               COSTURART  41.422618  2.177690   \n",
       "80550                               ABRILBIKE  41.399403  2.178403   \n",
       "80551                   FUTBOL SALA VALLDAURA  41.441363  2.161877   \n",
       "80552  ESGLESIA ORTODOXA PATRIARCAT DE SERBIA  41.387255  2.158082   \n",
       "80553                            FA ASSESSORS  41.391743  2.144485   \n",
       "\n",
       "        Nom_Districte                Nombre del Barrio  \n",
       "0      Sants-Montjuïc       la Marina del Prat Vermell  \n",
       "1      Sants-Montjuïc       la Marina del Prat Vermell  \n",
       "2      Sants-Montjuïc       la Marina del Prat Vermell  \n",
       "3      Sants-Montjuïc       la Marina del Prat Vermell  \n",
       "4      Sants-Montjuïc       la Marina del Prat Vermell  \n",
       "...               ...                              ...  \n",
       "80549  Horta-Guinardó                      el Guinardó  \n",
       "80550        Eixample                    el Fort Pienc  \n",
       "80551  Horta-Guinardó                            Horta  \n",
       "80552        Eixample  l'Antiga Esquerra de l'Eixample  \n",
       "80553        Eixample  l'Antiga Esquerra de l'Eixample  \n",
       "\n",
       "[80554 rows x 10 columns]"
      ]
     },
<<<<<<< HEAD
     "execution_count": 34,
=======
     "execution_count": 4,
>>>>>>> a5bf5e8ddd7891a818d6ae9eddd9ddd52f987214
     "metadata": {},
     "output_type": "execute_result"
    }
   ],
   "source": [
    "censo_clean"
   ]
  },
  {
   "cell_type": "code",
<<<<<<< HEAD
   "execution_count": 172,
   "id": "4fb48c66",
=======
   "execution_count": 5,
   "id": "1e96e6c1",
   "metadata": {},
   "outputs": [
    {
     "name": "stderr",
     "output_type": "stream",
     "text": [
      "/Users/joaquinortega/.pyenv/versions/3.10.6/envs/lewagon/lib/python3.10/site-packages/IPython/core/interactiveshell.py:3505: DtypeWarning: Columns (35,37) have mixed types.Specify dtype option on import or set low_memory=False.\n",
      "  exec(code_obj, self.user_global_ns, self.user_ns)\n"
     ]
    }
   ],
   "source": [
    "df2 = pd.read_csv('../Datos CSV/2019_censcomercialbcn_detall.csv')"
   ]
  },
  {
   "cell_type": "code",
   "execution_count": 6,
   "id": "03809144",
>>>>>>> a5bf5e8ddd7891a818d6ae9eddd9ddd52f987214
   "metadata": {},
   "outputs": [],
   "source": [
    "# censo_clean.to_csv('../Datos CSV/censo_clean.csv', index=False)"
   ]
  },
  {
   "cell_type": "code",
<<<<<<< HEAD
   "execution_count": 22,
=======
   "execution_count": 8,
   "id": "fd288c9d",
   "metadata": {},
   "outputs": [
    {
     "data": {
      "text/plain": [
       "Sense informació                                     11164\n",
       "Restaurants                                           5599\n",
       "Sense informació - Havia tingut activitat (rètol)     4276\n",
       "Serveis a les empreses i oficines                     3464\n",
       "Bars   / CIBERCAFÈ                                    3290\n",
       "                                                     ...  \n",
       "Souvenirs i basars                                      40\n",
       "Òptiques i fotografia                                   27\n",
       "Grans magatzems i hipermercats                          20\n",
       "altres                                                  16\n",
       "Altres ( per exemple VENDING)                           16\n",
       "Name: Nombre de Actividad, Length: 83, dtype: int64"
      ]
     },
     "execution_count": 8,
     "metadata": {},
     "output_type": "execute_result"
    }
   ],
   "source": [
    "censo_clean['Nombre de Actividad'].value_counts()"
   ]
  },
  {
   "cell_type": "code",
   "execution_count": 9,
   "id": "312d4d04",
   "metadata": {},
   "outputs": [],
   "source": [
    "first_lambda = ['Sense informació','altres','Altres ( per exemple VENDING)', 'Altres']"
   ]
  },
  {
   "cell_type": "code",
   "execution_count": 11,
   "id": "c00fc9b5",
   "metadata": {},
   "outputs": [],
   "source": [
    "# Cambiar con la tercera columna - Nom_Grup_Activitat = First Lambda\n",
    "censo_clean['Nombre de Actividad'] = censo_clean.apply(lambda row: row['Nom_Grup_Activitat'] if row['Nombre de Actividad'] in first_lambda else row['Nombre de Actividad'], axis=1)"
   ]
  },
  {
   "cell_type": "code",
   "execution_count": 12,
   "id": "17e6423b",
   "metadata": {},
   "outputs": [],
   "source": [
    "# Cambiar con la segunda columna - Nom_Sector_Activitat\n",
    "censo_clean['Nombre de Actividad'] = censo_clean.apply(lambda row: row['Nom_Sector_Activitat'] if row['Nombre de Actividad'] in first_lambda else row['Nombre de Actividad'], axis=1)"
   ]
  },
  {
   "cell_type": "code",
   "execution_count": 16,
   "id": "a073a7e0",
   "metadata": {},
   "outputs": [],
   "source": [
    "# censo_clean.drop(columns=['Nom_Sector_Activitat','Nom_Grup_Activitat'], inplace=True)\n",
    "unwanted_values = ['Locals buits en venda', 'Locals buits en lloguer', 'Locals buits en venda i lloguer', 'En reforma', 'Sense informació - Havia tingut activitat (rètol)']\n",
    "censo_clean = censo_clean[~censo_clean['Nombre de Actividad'].isin(unwanted_values)]\n"
   ]
  },
  {
   "cell_type": "code",
   "execution_count": 18,
   "id": "e575a350",
   "metadata": {},
   "outputs": [
    {
     "data": {
      "text/plain": [
       "Grup no definit                                                   11164\n",
       "Restaurants                                                        5599\n",
       "Serveis a les empreses i oficines                                  3464\n",
       "Bars   / CIBERCAFÈ                                                 3290\n",
       "Vestir                                                             3157\n",
       "                                                                  ...  \n",
       "Maquinària                                                           67\n",
       "Souvenirs i basars                                                   40\n",
       "Restaurants, bars i hotels (Inclòs hostals, pensions i fondes)       32\n",
       "Òptiques i fotografia                                                27\n",
       "Grans magatzems i hipermercats                                       20\n",
       "Name: Nombre de Actividad, Length: 80, dtype: int64"
      ]
     },
     "execution_count": 18,
     "metadata": {},
     "output_type": "execute_result"
    }
   ],
   "source": [
    "censo_clean['Nombre de Actividad'].value_counts()"
   ]
  },
  {
   "cell_type": "code",
   "execution_count": 19,
   "id": "6b448095",
   "metadata": {},
   "outputs": [],
   "source": [
    "# pd.set_option('display.max_rows', None)\n",
    "# censo_clean['Nombre de Actividad'].value_counts()"
   ]
  },
  {
   "cell_type": "code",
   "execution_count": 20,
>>>>>>> a5bf5e8ddd7891a818d6ae9eddd9ddd52f987214
   "id": "9fede68b",
   "metadata": {},
   "outputs": [],
   "source": [
    "# censo_clean.to_json('../JSON listos/censo_clean.json', orient='records')  "
   ]
  },
  {
   "attachments": {},
   "cell_type": "markdown",
   "id": "298c1a1c",
   "metadata": {},
   "source": [
    "### CSV Centro Comercial"
   ]
  },
  {
   "cell_type": "code",
   "execution_count": 130,
   "id": "93d038f1",
   "metadata": {},
   "outputs": [],
   "source": [
    "# Load the CSV - Centro Comercial\n",
    "centros_comerciales = pd.read_csv('../Datos CSV/opendatagrans-centres-comercials.csv', encoding='utf-16')"
   ]
  },
  {
   "cell_type": "code",
   "execution_count": 131,
   "id": "c444d31a",
   "metadata": {},
   "outputs": [],
   "source": [
    "# Add new column for categorization\n",
    "centros_comerciales['Tipo_Centro_Comercio'] = 'Centro Comercial'"
   ]
  },
  {
   "attachments": {},
   "cell_type": "markdown",
   "id": "0f22c489",
   "metadata": {},
   "source": [
    "### Galerias Comerciales"
   ]
  },
  {
   "cell_type": "code",
   "execution_count": 132,
   "id": "9794a041",
   "metadata": {},
   "outputs": [],
   "source": [
    "# Load the CSV - Galerias Comerciales\n",
    "galerias = pd.read_csv('../Datos CSV/opendata_galeries-comercials.csv', encoding='utf-16')"
   ]
  },
  {
   "cell_type": "code",
   "execution_count": 133,
   "id": "4c9c598e",
   "metadata": {},
   "outputs": [],
   "source": [
    "# Add new column for categorization - Galerias Comerciales\n",
    "galerias['Tipo_Centro_Comercio'] = 'Galeria Comercial'"
   ]
  },
  {
   "attachments": {},
   "cell_type": "markdown",
   "id": "299a076f",
   "metadata": {},
   "source": [
    "### Mercats Fires al Carrer"
   ]
  },
  {
   "cell_type": "code",
   "execution_count": 134,
   "id": "75d94b8f",
   "metadata": {},
   "outputs": [],
   "source": [
    "# Add new column for categorization - Galerias Comerciales\n",
    "mercats_fires = pd.read_csv('../Datos CSV/opendata_mercats-fires-al-carrer.csv', encoding='utf-16')"
   ]
  },
  {
   "cell_type": "code",
   "execution_count": 135,
   "id": "a9eb9a89",
   "metadata": {},
   "outputs": [],
   "source": [
    "mercats_fires['Tipo_Centro_Comercio'] = 'Feria'"
   ]
  },
  {
   "attachments": {},
   "cell_type": "markdown",
   "id": "6b56e7a4",
   "metadata": {},
   "source": [
    "### Mercados Municipales"
   ]
  },
  {
   "cell_type": "code",
   "execution_count": 136,
   "id": "e9219981",
   "metadata": {},
   "outputs": [],
   "source": [
    "mercats_municipals = pd.read_csv('../Datos CSV/opendata_mercats-municipals.csv', encoding='utf-16')"
   ]
  },
  {
   "cell_type": "code",
   "execution_count": 137,
   "id": "139343ae",
   "metadata": {},
   "outputs": [],
   "source": [
    "mercats_municipals['Tipo_Centro_Comercio'] = 'Mercado Municipal'"
   ]
  },
  {
   "attachments": {},
   "cell_type": "markdown",
   "id": "d50b5695",
   "metadata": {},
   "source": [
    "### Concatenation of Centros de Comercio"
   ]
  },
  {
   "cell_type": "code",
   "execution_count": 138,
   "id": "998cd5d8",
   "metadata": {},
   "outputs": [],
   "source": [
    "comercio_bcn = pd.concat([centros_comerciales, galerias, mercats_fires, mercats_municipals])"
   ]
  },
  {
   "cell_type": "code",
   "execution_count": 146,
   "id": "05425428",
   "metadata": {},
   "outputs": [
    {
     "data": {
      "text/html": [
       "<div>\n",
       "<style scoped>\n",
       "    .dataframe tbody tr th:only-of-type {\n",
       "        vertical-align: middle;\n",
       "    }\n",
       "\n",
       "    .dataframe tbody tr th {\n",
       "        vertical-align: top;\n",
       "    }\n",
       "\n",
       "    .dataframe thead th {\n",
       "        text-align: right;\n",
       "    }\n",
       "</style>\n",
       "<table border=\"1\" class=\"dataframe\">\n",
       "  <thead>\n",
       "    <tr style=\"text-align: right;\">\n",
       "      <th></th>\n",
       "      <th>register_id</th>\n",
       "      <th>name</th>\n",
       "      <th>addresses_road_name</th>\n",
       "      <th>addresses_start_street_number</th>\n",
       "      <th>addresses_district_name</th>\n",
       "      <th>addresses_zip_code</th>\n",
       "      <th>geo_epgs_4326_x</th>\n",
       "      <th>geo_epgs_4326_y</th>\n",
       "      <th>Tipo_Centro_Comercio</th>\n",
       "    </tr>\n",
       "  </thead>\n",
       "  <tbody>\n",
       "    <tr>\n",
       "      <th>0</th>\n",
       "      <td>﻿1256130510</td>\n",
       "      <td>Centre Comercial Som Multiespai</td>\n",
       "      <td>Av Rio de Janeiro</td>\n",
       "      <td>42</td>\n",
       "      <td>Nou Barris</td>\n",
       "      <td>8016</td>\n",
       "      <td>41.435125</td>\n",
       "      <td>2.181042</td>\n",
       "      <td>Centro Comercial</td>\n",
       "    </tr>\n",
       "    <tr>\n",
       "      <th>1</th>\n",
       "      <td>﻿1313140637</td>\n",
       "      <td>Centre Comercial Diagonal Mar</td>\n",
       "      <td>Av Diagonal</td>\n",
       "      <td>3</td>\n",
       "      <td>Sant Martí</td>\n",
       "      <td>8019</td>\n",
       "      <td>41.410457</td>\n",
       "      <td>2.216423</td>\n",
       "      <td>Centro Comercial</td>\n",
       "    </tr>\n",
       "    <tr>\n",
       "      <th>2</th>\n",
       "      <td>﻿95111123350</td>\n",
       "      <td>Hipermercat Carrefour *Glòries</td>\n",
       "      <td>Av Diagonal</td>\n",
       "      <td>208</td>\n",
       "      <td>Sant Martí</td>\n",
       "      <td>8018</td>\n",
       "      <td>41.404976</td>\n",
       "      <td>2.192521</td>\n",
       "      <td>Centro Comercial</td>\n",
       "    </tr>\n",
       "    <tr>\n",
       "      <th>3</th>\n",
       "      <td>﻿93308093528</td>\n",
       "      <td>Centre Comercial L'Illa Diagonal</td>\n",
       "      <td>Av Diagonal</td>\n",
       "      <td>557</td>\n",
       "      <td>Les Corts</td>\n",
       "      <td>8029</td>\n",
       "      <td>41.389746</td>\n",
       "      <td>2.135396</td>\n",
       "      <td>Centro Comercial</td>\n",
       "    </tr>\n",
       "    <tr>\n",
       "      <th>4</th>\n",
       "      <td>﻿93293093019</td>\n",
       "      <td>Centre Comercial Westfield Glòries</td>\n",
       "      <td>Av Diagonal</td>\n",
       "      <td>208</td>\n",
       "      <td>Sant Martí</td>\n",
       "      <td>8018</td>\n",
       "      <td>41.404976</td>\n",
       "      <td>2.192521</td>\n",
       "      <td>Centro Comercial</td>\n",
       "    </tr>\n",
       "    <tr>\n",
       "      <th>...</th>\n",
       "      <td>...</td>\n",
       "      <td>...</td>\n",
       "      <td>...</td>\n",
       "      <td>...</td>\n",
       "      <td>...</td>\n",
       "      <td>...</td>\n",
       "      <td>...</td>\n",
       "      <td>...</td>\n",
       "      <td>...</td>\n",
       "    </tr>\n",
       "    <tr>\n",
       "      <th>46</th>\n",
       "      <td>﻿92086019717</td>\n",
       "      <td>Mercat de Canyelles</td>\n",
       "      <td>Carrer d'Antonio Machado</td>\n",
       "      <td>10</td>\n",
       "      <td>Nou Barris</td>\n",
       "      <td>8042</td>\n",
       "      <td>41.441988</td>\n",
       "      <td>2.164427</td>\n",
       "      <td>Mercado Municipal</td>\n",
       "    </tr>\n",
       "    <tr>\n",
       "      <th>47</th>\n",
       "      <td>﻿96058202955</td>\n",
       "      <td>Mercat Dominical de Sant Antoni</td>\n",
       "      <td>C Comte d'Urgell</td>\n",
       "      <td>1</td>\n",
       "      <td>Eixample</td>\n",
       "      <td>8011</td>\n",
       "      <td>41.379568</td>\n",
       "      <td>2.161743</td>\n",
       "      <td>Mercado Municipal</td>\n",
       "    </tr>\n",
       "    <tr>\n",
       "      <th>48</th>\n",
       "      <td>﻿96058202955</td>\n",
       "      <td>Mercat Dominical de Sant Antoni</td>\n",
       "      <td>C Comte d'Urgell</td>\n",
       "      <td>1</td>\n",
       "      <td>Eixample</td>\n",
       "      <td>8011</td>\n",
       "      <td>41.379568</td>\n",
       "      <td>2.161743</td>\n",
       "      <td>Mercado Municipal</td>\n",
       "    </tr>\n",
       "    <tr>\n",
       "      <th>49</th>\n",
       "      <td>﻿99400695137</td>\n",
       "      <td>Mercat de Núria</td>\n",
       "      <td>Avinguda dels Rasos de Peguera</td>\n",
       "      <td>186</td>\n",
       "      <td>Nou Barris</td>\n",
       "      <td>8033</td>\n",
       "      <td>41.459952</td>\n",
       "      <td>2.172637</td>\n",
       "      <td>Mercado Municipal</td>\n",
       "    </tr>\n",
       "    <tr>\n",
       "      <th>50</th>\n",
       "      <td>﻿99400069155</td>\n",
       "      <td>Mercat del Fort Pienc</td>\n",
       "      <td>Pl Fort Pienc</td>\n",
       "      <td>3</td>\n",
       "      <td>Eixample</td>\n",
       "      <td>8013</td>\n",
       "      <td>41.395774</td>\n",
       "      <td>2.182541</td>\n",
       "      <td>Mercado Municipal</td>\n",
       "    </tr>\n",
       "  </tbody>\n",
       "</table>\n",
       "<p>129 rows × 9 columns</p>\n",
       "</div>"
      ],
      "text/plain": [
       "     register_id                                name  \\\n",
       "0    ﻿1256130510     Centre Comercial Som Multiespai   \n",
       "1    ﻿1313140637       Centre Comercial Diagonal Mar   \n",
       "2   ﻿95111123350      Hipermercat Carrefour *Glòries   \n",
       "3   ﻿93308093528    Centre Comercial L'Illa Diagonal   \n",
       "4   ﻿93293093019  Centre Comercial Westfield Glòries   \n",
       "..           ...                                 ...   \n",
       "46  ﻿92086019717                 Mercat de Canyelles   \n",
       "47  ﻿96058202955     Mercat Dominical de Sant Antoni   \n",
       "48  ﻿96058202955     Mercat Dominical de Sant Antoni   \n",
       "49  ﻿99400695137                     Mercat de Núria   \n",
       "50  ﻿99400069155               Mercat del Fort Pienc   \n",
       "\n",
       "               addresses_road_name  addresses_start_street_number  \\\n",
       "0                Av Rio de Janeiro                             42   \n",
       "1                      Av Diagonal                              3   \n",
       "2                      Av Diagonal                            208   \n",
       "3                      Av Diagonal                            557   \n",
       "4                      Av Diagonal                            208   \n",
       "..                             ...                            ...   \n",
       "46        Carrer d'Antonio Machado                             10   \n",
       "47                C Comte d'Urgell                              1   \n",
       "48                C Comte d'Urgell                              1   \n",
       "49  Avinguda dels Rasos de Peguera                            186   \n",
       "50                   Pl Fort Pienc                              3   \n",
       "\n",
       "   addresses_district_name  addresses_zip_code  geo_epgs_4326_x  \\\n",
       "0               Nou Barris                8016        41.435125   \n",
       "1               Sant Martí                8019        41.410457   \n",
       "2               Sant Martí                8018        41.404976   \n",
       "3                Les Corts                8029        41.389746   \n",
       "4               Sant Martí                8018        41.404976   \n",
       "..                     ...                 ...              ...   \n",
       "46              Nou Barris                8042        41.441988   \n",
       "47                Eixample                8011        41.379568   \n",
       "48                Eixample                8011        41.379568   \n",
       "49              Nou Barris                8033        41.459952   \n",
       "50                Eixample                8013        41.395774   \n",
       "\n",
       "    geo_epgs_4326_y Tipo_Centro_Comercio  \n",
       "0          2.181042     Centro Comercial  \n",
       "1          2.216423     Centro Comercial  \n",
       "2          2.192521     Centro Comercial  \n",
       "3          2.135396     Centro Comercial  \n",
       "4          2.192521     Centro Comercial  \n",
       "..              ...                  ...  \n",
       "46         2.164427    Mercado Municipal  \n",
       "47         2.161743    Mercado Municipal  \n",
       "48         2.161743    Mercado Municipal  \n",
       "49         2.172637    Mercado Municipal  \n",
       "50         2.182541    Mercado Municipal  \n",
       "\n",
       "[129 rows x 9 columns]"
      ]
     },
     "execution_count": 146,
     "metadata": {},
     "output_type": "execute_result"
    }
   ],
   "source": [
    "comercio_cols = ['register_id','name','addresses_road_name','addresses_start_street_number','addresses_district_name','addresses_zip_code','geo_epgs_4326_x','geo_epgs_4326_y','Tipo_Centro_Comercio']\n",
    "filtered_comercio = pd.DataFrame(comercio_bcn[comercio_cols])\n",
    "filtered_comercio"
   ]
  },
  {
   "attachments": {},
   "cell_type": "markdown",
   "id": "6b58c8d5",
   "metadata": {},
   "source": []
  }
 ],
 "metadata": {
  "kernelspec": {
   "display_name": "Python 3 (ipykernel)",
   "language": "python",
   "name": "python3"
  },
  "language_info": {
   "codemirror_mode": {
    "name": "ipython",
    "version": 3
   },
   "file_extension": ".py",
   "mimetype": "text/x-python",
   "name": "python",
   "nbconvert_exporter": "python",
   "pygments_lexer": "ipython3",
   "version": "3.10.6"
  },
  "toc": {
   "base_numbering": 1,
   "nav_menu": {},
   "number_sections": true,
   "sideBar": true,
   "skip_h1_title": false,
   "title_cell": "Table of Contents",
   "title_sidebar": "Contents",
   "toc_cell": false,
   "toc_position": {},
   "toc_section_display": true,
   "toc_window_display": false
  }
 },
 "nbformat": 4,
 "nbformat_minor": 5
}
