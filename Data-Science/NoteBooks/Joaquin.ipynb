{
 "cells": [
  {
   "cell_type": "code",
   "execution_count": 1,
   "id": "8f82a5d4",
   "metadata": {},
   "outputs": [],
   "source": [
    "import pandas as pd"
   ]
  },
  {
   "cell_type": "code",
   "execution_count": 2,
   "id": "aca54281",
   "metadata": {
    "scrolled": true
   },
   "outputs": [],
   "source": [
    "# Estimacion del precio mensual de locales commerciales por barrio en años 2011, 2010, 2009, 2008\n",
    "df1 = pd.read_csv('../Datos CSV/locveevolucio.csv')\n",
    "relabel = {'BARIIS': 'BARRIO', 'DOSZEROONZE': 2011, 'DOSZERODEU': 2010, 'DOSZEROZERONOU': 2009, 'DOSZEROZEROVUIT': 2008}\n",
    "df1.rename(columns=relabel, inplace=True)"
   ]
  },
  {
   "cell_type": "code",
   "execution_count": 3,
   "id": "52707296",
   "metadata": {},
   "outputs": [
    {
     "name": "stderr",
     "output_type": "stream",
     "text": [
      "/var/folders/hp/ytf1kqk92hd11vlmtk9zz38r0000gn/T/ipykernel_90231/3902438200.py:1: FutureWarning: The default value of regex will change from True to False in a future version.\n",
      "  df1['BARRIS'] = df1['BARRIS'].str.replace('[\\.,0-9]', '')\n"
     ]
    }
   ],
   "source": [
    "df1['BARRIS'] = df1['BARRIS'].str.replace('[\\.,0-9]', '')\n",
    "# df1.to_json('data/evolucion_precio_renta_mensual.json', orient='records')"
   ]
  },
  {
   "cell_type": "code",
   "execution_count": 4,
   "id": "167eb886",
   "metadata": {},
   "outputs": [
    {
     "data": {
      "text/html": [
       "<div>\n",
       "<style scoped>\n",
       "    .dataframe tbody tr th:only-of-type {\n",
       "        vertical-align: middle;\n",
       "    }\n",
       "\n",
       "    .dataframe tbody tr th {\n",
       "        vertical-align: top;\n",
       "    }\n",
       "\n",
       "    .dataframe thead th {\n",
       "        text-align: right;\n",
       "    }\n",
       "</style>\n",
       "<table border=\"1\" class=\"dataframe\">\n",
       "  <thead>\n",
       "    <tr style=\"text-align: right;\">\n",
       "      <th></th>\n",
       "      <th>DTE</th>\n",
       "      <th>BARRIS</th>\n",
       "      <th>2011</th>\n",
       "      <th>2010</th>\n",
       "      <th>2009</th>\n",
       "      <th>2008</th>\n",
       "    </tr>\n",
       "  </thead>\n",
       "  <tbody>\n",
       "    <tr>\n",
       "      <th>0</th>\n",
       "      <td>1</td>\n",
       "      <td>el Raval</td>\n",
       "      <td>2.176</td>\n",
       "      <td>2.445</td>\n",
       "      <td>2.773</td>\n",
       "      <td>3.065</td>\n",
       "    </tr>\n",
       "    <tr>\n",
       "      <th>1</th>\n",
       "      <td>1</td>\n",
       "      <td>el Barri Gòtic</td>\n",
       "      <td>2.632</td>\n",
       "      <td>3.026</td>\n",
       "      <td>3.750</td>\n",
       "      <td>3.828</td>\n",
       "    </tr>\n",
       "    <tr>\n",
       "      <th>2</th>\n",
       "      <td>1</td>\n",
       "      <td>la Barceloneta</td>\n",
       "      <td>2.135</td>\n",
       "      <td>3.005</td>\n",
       "      <td>--</td>\n",
       "      <td>--</td>\n",
       "    </tr>\n",
       "    <tr>\n",
       "      <th>3</th>\n",
       "      <td>1</td>\n",
       "      <td>Sant Pere Santa Caterina i la Ribera</td>\n",
       "      <td>2.482</td>\n",
       "      <td>2.828</td>\n",
       "      <td>3.146</td>\n",
       "      <td>3.450</td>\n",
       "    </tr>\n",
       "    <tr>\n",
       "      <th>4</th>\n",
       "      <td>2</td>\n",
       "      <td>el Fort Pienc</td>\n",
       "      <td>2.224</td>\n",
       "      <td>2.422</td>\n",
       "      <td>2.736</td>\n",
       "      <td>2.893</td>\n",
       "    </tr>\n",
       "  </tbody>\n",
       "</table>\n",
       "</div>"
      ],
      "text/plain": [
       "   DTE                                 BARRIS   2011   2010   2009   2008\n",
       "0    1                               el Raval  2.176  2.445  2.773  3.065\n",
       "1    1                         el Barri Gòtic  2.632  3.026  3.750  3.828\n",
       "2    1                         la Barceloneta  2.135  3.005     --     --\n",
       "3    1   Sant Pere Santa Caterina i la Ribera  2.482  2.828  3.146  3.450\n",
       "4    2                          el Fort Pienc  2.224  2.422  2.736  2.893"
      ]
     },
     "execution_count": 4,
     "metadata": {},
     "output_type": "execute_result"
    }
   ],
   "source": [
    "# Remove punctuations and also add column for average price, high price, low price\n",
    "df1.head(5)"
   ]
  },
  {
   "attachments": {},
   "cell_type": "markdown",
   "id": "27676275",
   "metadata": {},
   "source": [
    "### Censo Comercial Dataset"
   ]
  },
  {
   "cell_type": "code",
   "execution_count": 5,
   "id": "1e96e6c1",
   "metadata": {},
   "outputs": [
    {
     "name": "stderr",
     "output_type": "stream",
     "text": [
      "/Users/joaquinortega/.pyenv/versions/3.10.6/envs/lewagon/lib/python3.10/site-packages/IPython/core/interactiveshell.py:3505: DtypeWarning: Columns (35,37) have mixed types.Specify dtype option on import or set low_memory=False.\n",
      "  exec(code_obj, self.user_global_ns, self.user_ns)\n"
     ]
    }
   ],
   "source": [
    "df2 = pd.read_csv('../Datos CSV/2019_censcomercialbcn_detall.csv')"
   ]
  },
  {
   "cell_type": "code",
   "execution_count": 6,
   "id": "03809144",
   "metadata": {},
   "outputs": [],
   "source": [
    "# direccion = 'Codi_Via', 'Nom_Via', 'Planta', 'Porta','Lletra_Inicial'\n",
    "censo_cols = ['ID_Bcn_2019','Nom_Principal_Activitat','Nom_Activitat','Nom_Sector_Activitat','Nom_Grup_Activitat','Nom_Local','Latitud','Longitud','Nom_Districte']\n",
    "censo_clean = pd.DataFrame(df2[censo_cols])\n",
    "censo_clean.rename(columns={'Nom_Principal_Activitat':'Actividad Economica','Nom_Activitat':'Nombre de Actividad'}, inplace=True)\n",
    "censo_clean['Actividad Economica'].replace({'Actiu': 'For Profit', 'Sense activitat Econòmica': 'Non Profit'}, inplace=True)"
   ]
  },
  {
   "cell_type": "code",
   "execution_count": 8,
   "id": "fd288c9d",
   "metadata": {},
   "outputs": [
    {
     "data": {
      "text/plain": [
       "Sense informació                                     11164\n",
       "Restaurants                                           5599\n",
       "Sense informació - Havia tingut activitat (rètol)     4276\n",
       "Serveis a les empreses i oficines                     3464\n",
       "Bars   / CIBERCAFÈ                                    3290\n",
       "                                                     ...  \n",
       "Souvenirs i basars                                      40\n",
       "Òptiques i fotografia                                   27\n",
       "Grans magatzems i hipermercats                          20\n",
       "altres                                                  16\n",
       "Altres ( per exemple VENDING)                           16\n",
       "Name: Nombre de Actividad, Length: 83, dtype: int64"
      ]
     },
     "execution_count": 8,
     "metadata": {},
     "output_type": "execute_result"
    }
   ],
   "source": [
    "censo_clean['Nombre de Actividad'].value_counts()"
   ]
  },
  {
   "cell_type": "code",
   "execution_count": 9,
   "id": "312d4d04",
   "metadata": {},
   "outputs": [],
   "source": [
    "first_lambda = ['Sense informació','altres','Altres ( per exemple VENDING)', 'Altres']"
   ]
  },
  {
   "cell_type": "code",
   "execution_count": 11,
   "id": "c00fc9b5",
   "metadata": {},
   "outputs": [],
   "source": [
    "# Cambiar con la tercera columna - Nom_Grup_Activitat = First Lambda\n",
    "censo_clean['Nombre de Actividad'] = censo_clean.apply(lambda row: row['Nom_Grup_Activitat'] if row['Nombre de Actividad'] in first_lambda else row['Nombre de Actividad'], axis=1)"
   ]
  },
  {
   "cell_type": "code",
   "execution_count": 12,
   "id": "17e6423b",
   "metadata": {},
   "outputs": [],
   "source": [
    "# Cambiar con la segunda columna - Nom_Sector_Activitat\n",
    "censo_clean['Nombre de Actividad'] = censo_clean.apply(lambda row: row['Nom_Sector_Activitat'] if row['Nombre de Actividad'] in first_lambda else row['Nombre de Actividad'], axis=1)"
   ]
  },
  {
   "cell_type": "code",
   "execution_count": 16,
   "id": "a073a7e0",
   "metadata": {},
   "outputs": [],
   "source": [
    "# censo_clean.drop(columns=['Nom_Sector_Activitat','Nom_Grup_Activitat'], inplace=True)\n",
    "unwanted_values = ['Locals buits en venda', 'Locals buits en lloguer', 'Locals buits en venda i lloguer', 'En reforma', 'Sense informació - Havia tingut activitat (rètol)']\n",
    "censo_clean = censo_clean[~censo_clean['Nombre de Actividad'].isin(unwanted_values)]\n"
   ]
  },
  {
   "cell_type": "code",
   "execution_count": 18,
   "id": "e575a350",
   "metadata": {},
   "outputs": [
    {
     "data": {
      "text/plain": [
       "Grup no definit                                                   11164\n",
       "Restaurants                                                        5599\n",
       "Serveis a les empreses i oficines                                  3464\n",
       "Bars   / CIBERCAFÈ                                                 3290\n",
       "Vestir                                                             3157\n",
       "                                                                  ...  \n",
       "Maquinària                                                           67\n",
       "Souvenirs i basars                                                   40\n",
       "Restaurants, bars i hotels (Inclòs hostals, pensions i fondes)       32\n",
       "Òptiques i fotografia                                                27\n",
       "Grans magatzems i hipermercats                                       20\n",
       "Name: Nombre de Actividad, Length: 80, dtype: int64"
      ]
     },
     "execution_count": 18,
     "metadata": {},
     "output_type": "execute_result"
    }
   ],
   "source": [
    "censo_clean['Nombre de Actividad'].value_counts()"
   ]
  },
  {
   "cell_type": "code",
   "execution_count": 19,
   "id": "6b448095",
   "metadata": {},
   "outputs": [],
   "source": [
    "# pd.set_option('display.max_rows', None)\n",
    "# censo_clean['Nombre de Actividad'].value_counts()"
   ]
  },
  {
   "cell_type": "code",
   "execution_count": 20,
   "id": "9fede68b",
   "metadata": {},
   "outputs": [],
   "source": [
    "censo_clean.to_json('../JSON listos/censo_clean.json', orient='records')  "
   ]
  },
  {
   "attachments": {},
   "cell_type": "markdown",
   "id": "298c1a1c",
   "metadata": {},
   "source": [
    "### CSV Centro Comercial"
   ]
  },
  {
   "cell_type": "code",
   "execution_count": 130,
   "id": "93d038f1",
   "metadata": {},
   "outputs": [],
   "source": [
    "# Load the CSV - Centro Comercial\n",
    "centros_comerciales = pd.read_csv('../Datos CSV/opendatagrans-centres-comercials.csv', encoding='utf-16')"
   ]
  },
  {
   "cell_type": "code",
   "execution_count": 131,
   "id": "c444d31a",
   "metadata": {},
   "outputs": [],
   "source": [
    "# Add new column for categorization\n",
    "centros_comerciales['Tipo_Centro_Comercio'] = 'Centro Comercial'"
   ]
  },
  {
   "attachments": {},
   "cell_type": "markdown",
   "id": "0f22c489",
   "metadata": {},
   "source": [
    "### Galerias Comerciales"
   ]
  },
  {
   "cell_type": "code",
   "execution_count": 132,
   "id": "9794a041",
   "metadata": {},
   "outputs": [],
   "source": [
    "# Load the CSV - Galerias Comerciales\n",
    "galerias = pd.read_csv('../Datos CSV/opendata_galeries-comercials.csv', encoding='utf-16')"
   ]
  },
  {
   "cell_type": "code",
   "execution_count": 133,
   "id": "4c9c598e",
   "metadata": {},
   "outputs": [],
   "source": [
    "# Add new column for categorization - Galerias Comerciales\n",
    "galerias['Tipo_Centro_Comercio'] = 'Galeria Comercial'"
   ]
  },
  {
   "attachments": {},
   "cell_type": "markdown",
   "id": "299a076f",
   "metadata": {},
   "source": [
    "### Mercats Fires al Carrer"
   ]
  },
  {
   "cell_type": "code",
   "execution_count": 134,
   "id": "75d94b8f",
   "metadata": {},
   "outputs": [],
   "source": [
    "# Add new column for categorization - Galerias Comerciales\n",
    "mercats_fires = pd.read_csv('../Datos CSV/opendata_mercats-fires-al-carrer.csv', encoding='utf-16')"
   ]
  },
  {
   "cell_type": "code",
   "execution_count": 135,
   "id": "a9eb9a89",
   "metadata": {},
   "outputs": [],
   "source": [
    "mercats_fires['Tipo_Centro_Comercio'] = 'Feria'"
   ]
  },
  {
   "attachments": {},
   "cell_type": "markdown",
   "id": "6b56e7a4",
   "metadata": {},
   "source": [
    "### Mercados Municipales"
   ]
  },
  {
   "cell_type": "code",
   "execution_count": 136,
   "id": "e9219981",
   "metadata": {},
   "outputs": [],
   "source": [
    "mercats_municipals = pd.read_csv('../Datos CSV/opendata_mercats-municipals.csv', encoding='utf-16')"
   ]
  },
  {
   "cell_type": "code",
   "execution_count": 137,
   "id": "139343ae",
   "metadata": {},
   "outputs": [],
   "source": [
    "mercats_municipals['Tipo_Centro_Comercio'] = 'Mercado Municipal'"
   ]
  },
  {
   "attachments": {},
   "cell_type": "markdown",
   "id": "d50b5695",
   "metadata": {},
   "source": [
    "### Concatenation of Centros de Comercio"
   ]
  },
  {
   "cell_type": "code",
   "execution_count": 138,
   "id": "998cd5d8",
   "metadata": {},
   "outputs": [],
   "source": [
    "comercio_bcn = pd.concat([centros_comerciales, galerias, mercats_fires, mercats_municipals])"
   ]
  },
  {
   "cell_type": "code",
   "execution_count": 146,
   "id": "05425428",
   "metadata": {},
   "outputs": [
    {
     "data": {
      "text/html": [
       "<div>\n",
       "<style scoped>\n",
       "    .dataframe tbody tr th:only-of-type {\n",
       "        vertical-align: middle;\n",
       "    }\n",
       "\n",
       "    .dataframe tbody tr th {\n",
       "        vertical-align: top;\n",
       "    }\n",
       "\n",
       "    .dataframe thead th {\n",
       "        text-align: right;\n",
       "    }\n",
       "</style>\n",
       "<table border=\"1\" class=\"dataframe\">\n",
       "  <thead>\n",
       "    <tr style=\"text-align: right;\">\n",
       "      <th></th>\n",
       "      <th>register_id</th>\n",
       "      <th>name</th>\n",
       "      <th>addresses_road_name</th>\n",
       "      <th>addresses_start_street_number</th>\n",
       "      <th>addresses_district_name</th>\n",
       "      <th>addresses_zip_code</th>\n",
       "      <th>geo_epgs_4326_x</th>\n",
       "      <th>geo_epgs_4326_y</th>\n",
       "      <th>Tipo_Centro_Comercio</th>\n",
       "    </tr>\n",
       "  </thead>\n",
       "  <tbody>\n",
       "    <tr>\n",
       "      <th>0</th>\n",
       "      <td>﻿1256130510</td>\n",
       "      <td>Centre Comercial Som Multiespai</td>\n",
       "      <td>Av Rio de Janeiro</td>\n",
       "      <td>42</td>\n",
       "      <td>Nou Barris</td>\n",
       "      <td>8016</td>\n",
       "      <td>41.435125</td>\n",
       "      <td>2.181042</td>\n",
       "      <td>Centro Comercial</td>\n",
       "    </tr>\n",
       "    <tr>\n",
       "      <th>1</th>\n",
       "      <td>﻿1313140637</td>\n",
       "      <td>Centre Comercial Diagonal Mar</td>\n",
       "      <td>Av Diagonal</td>\n",
       "      <td>3</td>\n",
       "      <td>Sant Martí</td>\n",
       "      <td>8019</td>\n",
       "      <td>41.410457</td>\n",
       "      <td>2.216423</td>\n",
       "      <td>Centro Comercial</td>\n",
       "    </tr>\n",
       "    <tr>\n",
       "      <th>2</th>\n",
       "      <td>﻿95111123350</td>\n",
       "      <td>Hipermercat Carrefour *Glòries</td>\n",
       "      <td>Av Diagonal</td>\n",
       "      <td>208</td>\n",
       "      <td>Sant Martí</td>\n",
       "      <td>8018</td>\n",
       "      <td>41.404976</td>\n",
       "      <td>2.192521</td>\n",
       "      <td>Centro Comercial</td>\n",
       "    </tr>\n",
       "    <tr>\n",
       "      <th>3</th>\n",
       "      <td>﻿93308093528</td>\n",
       "      <td>Centre Comercial L'Illa Diagonal</td>\n",
       "      <td>Av Diagonal</td>\n",
       "      <td>557</td>\n",
       "      <td>Les Corts</td>\n",
       "      <td>8029</td>\n",
       "      <td>41.389746</td>\n",
       "      <td>2.135396</td>\n",
       "      <td>Centro Comercial</td>\n",
       "    </tr>\n",
       "    <tr>\n",
       "      <th>4</th>\n",
       "      <td>﻿93293093019</td>\n",
       "      <td>Centre Comercial Westfield Glòries</td>\n",
       "      <td>Av Diagonal</td>\n",
       "      <td>208</td>\n",
       "      <td>Sant Martí</td>\n",
       "      <td>8018</td>\n",
       "      <td>41.404976</td>\n",
       "      <td>2.192521</td>\n",
       "      <td>Centro Comercial</td>\n",
       "    </tr>\n",
       "    <tr>\n",
       "      <th>...</th>\n",
       "      <td>...</td>\n",
       "      <td>...</td>\n",
       "      <td>...</td>\n",
       "      <td>...</td>\n",
       "      <td>...</td>\n",
       "      <td>...</td>\n",
       "      <td>...</td>\n",
       "      <td>...</td>\n",
       "      <td>...</td>\n",
       "    </tr>\n",
       "    <tr>\n",
       "      <th>46</th>\n",
       "      <td>﻿92086019717</td>\n",
       "      <td>Mercat de Canyelles</td>\n",
       "      <td>Carrer d'Antonio Machado</td>\n",
       "      <td>10</td>\n",
       "      <td>Nou Barris</td>\n",
       "      <td>8042</td>\n",
       "      <td>41.441988</td>\n",
       "      <td>2.164427</td>\n",
       "      <td>Mercado Municipal</td>\n",
       "    </tr>\n",
       "    <tr>\n",
       "      <th>47</th>\n",
       "      <td>﻿96058202955</td>\n",
       "      <td>Mercat Dominical de Sant Antoni</td>\n",
       "      <td>C Comte d'Urgell</td>\n",
       "      <td>1</td>\n",
       "      <td>Eixample</td>\n",
       "      <td>8011</td>\n",
       "      <td>41.379568</td>\n",
       "      <td>2.161743</td>\n",
       "      <td>Mercado Municipal</td>\n",
       "    </tr>\n",
       "    <tr>\n",
       "      <th>48</th>\n",
       "      <td>﻿96058202955</td>\n",
       "      <td>Mercat Dominical de Sant Antoni</td>\n",
       "      <td>C Comte d'Urgell</td>\n",
       "      <td>1</td>\n",
       "      <td>Eixample</td>\n",
       "      <td>8011</td>\n",
       "      <td>41.379568</td>\n",
       "      <td>2.161743</td>\n",
       "      <td>Mercado Municipal</td>\n",
       "    </tr>\n",
       "    <tr>\n",
       "      <th>49</th>\n",
       "      <td>﻿99400695137</td>\n",
       "      <td>Mercat de Núria</td>\n",
       "      <td>Avinguda dels Rasos de Peguera</td>\n",
       "      <td>186</td>\n",
       "      <td>Nou Barris</td>\n",
       "      <td>8033</td>\n",
       "      <td>41.459952</td>\n",
       "      <td>2.172637</td>\n",
       "      <td>Mercado Municipal</td>\n",
       "    </tr>\n",
       "    <tr>\n",
       "      <th>50</th>\n",
       "      <td>﻿99400069155</td>\n",
       "      <td>Mercat del Fort Pienc</td>\n",
       "      <td>Pl Fort Pienc</td>\n",
       "      <td>3</td>\n",
       "      <td>Eixample</td>\n",
       "      <td>8013</td>\n",
       "      <td>41.395774</td>\n",
       "      <td>2.182541</td>\n",
       "      <td>Mercado Municipal</td>\n",
       "    </tr>\n",
       "  </tbody>\n",
       "</table>\n",
       "<p>129 rows × 9 columns</p>\n",
       "</div>"
      ],
      "text/plain": [
       "     register_id                                name  \\\n",
       "0    ﻿1256130510     Centre Comercial Som Multiespai   \n",
       "1    ﻿1313140637       Centre Comercial Diagonal Mar   \n",
       "2   ﻿95111123350      Hipermercat Carrefour *Glòries   \n",
       "3   ﻿93308093528    Centre Comercial L'Illa Diagonal   \n",
       "4   ﻿93293093019  Centre Comercial Westfield Glòries   \n",
       "..           ...                                 ...   \n",
       "46  ﻿92086019717                 Mercat de Canyelles   \n",
       "47  ﻿96058202955     Mercat Dominical de Sant Antoni   \n",
       "48  ﻿96058202955     Mercat Dominical de Sant Antoni   \n",
       "49  ﻿99400695137                     Mercat de Núria   \n",
       "50  ﻿99400069155               Mercat del Fort Pienc   \n",
       "\n",
       "               addresses_road_name  addresses_start_street_number  \\\n",
       "0                Av Rio de Janeiro                             42   \n",
       "1                      Av Diagonal                              3   \n",
       "2                      Av Diagonal                            208   \n",
       "3                      Av Diagonal                            557   \n",
       "4                      Av Diagonal                            208   \n",
       "..                             ...                            ...   \n",
       "46        Carrer d'Antonio Machado                             10   \n",
       "47                C Comte d'Urgell                              1   \n",
       "48                C Comte d'Urgell                              1   \n",
       "49  Avinguda dels Rasos de Peguera                            186   \n",
       "50                   Pl Fort Pienc                              3   \n",
       "\n",
       "   addresses_district_name  addresses_zip_code  geo_epgs_4326_x  \\\n",
       "0               Nou Barris                8016        41.435125   \n",
       "1               Sant Martí                8019        41.410457   \n",
       "2               Sant Martí                8018        41.404976   \n",
       "3                Les Corts                8029        41.389746   \n",
       "4               Sant Martí                8018        41.404976   \n",
       "..                     ...                 ...              ...   \n",
       "46              Nou Barris                8042        41.441988   \n",
       "47                Eixample                8011        41.379568   \n",
       "48                Eixample                8011        41.379568   \n",
       "49              Nou Barris                8033        41.459952   \n",
       "50                Eixample                8013        41.395774   \n",
       "\n",
       "    geo_epgs_4326_y Tipo_Centro_Comercio  \n",
       "0          2.181042     Centro Comercial  \n",
       "1          2.216423     Centro Comercial  \n",
       "2          2.192521     Centro Comercial  \n",
       "3          2.135396     Centro Comercial  \n",
       "4          2.192521     Centro Comercial  \n",
       "..              ...                  ...  \n",
       "46         2.164427    Mercado Municipal  \n",
       "47         2.161743    Mercado Municipal  \n",
       "48         2.161743    Mercado Municipal  \n",
       "49         2.172637    Mercado Municipal  \n",
       "50         2.182541    Mercado Municipal  \n",
       "\n",
       "[129 rows x 9 columns]"
      ]
     },
     "execution_count": 146,
     "metadata": {},
     "output_type": "execute_result"
    }
   ],
   "source": [
    "comercio_cols = ['register_id','name','addresses_road_name','addresses_start_street_number','addresses_district_name','addresses_zip_code','geo_epgs_4326_x','geo_epgs_4326_y','Tipo_Centro_Comercio']\n",
    "filtered_comercio = pd.DataFrame(comercio_bcn[comercio_cols])\n",
    "filtered_comercio"
   ]
  },
  {
   "attachments": {},
   "cell_type": "markdown",
   "id": "6b58c8d5",
   "metadata": {},
   "source": []
  }
 ],
 "metadata": {
  "kernelspec": {
   "display_name": "Python 3 (ipykernel)",
   "language": "python",
   "name": "python3"
  },
  "language_info": {
   "codemirror_mode": {
    "name": "ipython",
    "version": 3
   },
   "file_extension": ".py",
   "mimetype": "text/x-python",
   "name": "python",
   "nbconvert_exporter": "python",
   "pygments_lexer": "ipython3",
   "version": "3.10.6"
  },
  "toc": {
   "base_numbering": 1,
   "nav_menu": {},
   "number_sections": true,
   "sideBar": true,
   "skip_h1_title": false,
   "title_cell": "Table of Contents",
   "title_sidebar": "Contents",
   "toc_cell": false,
   "toc_position": {},
   "toc_section_display": true,
   "toc_window_display": false
  }
 },
 "nbformat": 4,
 "nbformat_minor": 5
}
